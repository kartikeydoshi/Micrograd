{
 "cells": [
  {
   "cell_type": "code",
   "execution_count": 1,
   "id": "258d89b4-295c-4d16-b565-a274c3637788",
   "metadata": {},
   "outputs": [],
   "source": [
    "import math\n",
    "import numpy as np\n",
    "import matplotlib.pyplot as plt\n",
    "%matplotlib inline"
   ]
  },
  {
   "cell_type": "code",
   "execution_count": 2,
   "id": "9001f114-df11-4c7e-8baa-af1bdbf2ad6a",
   "metadata": {},
   "outputs": [],
   "source": [
    "def f(x):\n",
    "    return 3*x**2 - 4*x + 5"
   ]
  },
  {
   "cell_type": "code",
   "execution_count": 3,
   "id": "f27aa50a-3e0f-450e-a0f8-dc6eefbee20b",
   "metadata": {},
   "outputs": [
    {
     "data": {
      "text/plain": [
       "20.0"
      ]
     },
     "execution_count": 3,
     "metadata": {},
     "output_type": "execute_result"
    }
   ],
   "source": [
    "f(3.0)"
   ]
  },
  {
   "cell_type": "code",
   "execution_count": 4,
   "id": "8d170922-461d-466c-a6b2-1afecc8669bd",
   "metadata": {},
   "outputs": [
    {
     "data": {
      "text/plain": [
       "[<matplotlib.lines.Line2D at 0x115e7ef20>]"
      ]
     },
     "execution_count": 4,
     "metadata": {},
     "output_type": "execute_result"
    },
    {
     "data": {
      "image/png": "[encoded data removed]",
      "text/plain": [
       "<Figure size 640x480 with 1 Axes>"
      ]
     },
     "metadata": {},
     "output_type": "display_data"
    }
   ],
   "source": [
    "xs = np.arange(-5,5,0.25)\n",
    "xs\n",
    "ys = f(xs)\n",
    "plt.plot(xs,ys)"
   ]
  },
  {
   "cell_type": "code",
   "execution_count": 5,
   "id": "cb847c04-d205-4cde-a5ee-6a3d1867aeac",
   "metadata": {},
   "outputs": [
    {
     "data": {
      "text/plain": [
       "2.999378523327323e-06"
      ]
     },
     "execution_count": 5,
     "metadata": {},
     "output_type": "execute_result"
    }
   ],
   "source": [
    "h = 0.000001\n",
    "x = 2/3\n",
    "(f(x+h) - f(x))/h\n",
    "#f(a+h)-f(a)/h is the derivative formula/"
   ]
  },
  {
   "cell_type": "code",
   "execution_count": 6,
   "id": "db92cbba-9493-4695-843b-75fcc62783a0",
   "metadata": {},
   "outputs": [
    {
     "name": "stdout",
     "output_type": "stream",
     "text": [
      "4.0\n"
     ]
    }
   ],
   "source": [
    "#complex,function with 3 scalar inputs\n",
    "a = 2.0\n",
    "b = -3.0\n",
    "c = 10.0\n",
    "d = a * b + c\n",
    "print(d)"
   ]
  },
  {
   "cell_type": "code",
   "execution_count": 7,
   "id": "3c1b263b-3734-4694-b087-9c7ac4ab5a5e",
   "metadata": {},
   "outputs": [
    {
     "name": "stdout",
     "output_type": "stream",
     "text": [
      "d1 4.0\n",
      "d2 3.999699999999999\n",
      "slope -3.000000000010772\n"
     ]
    }
   ],
   "source": [
    "h = 0.0001\n",
    "a = 2.0\n",
    "b = -3.0\n",
    "c = 10.0\n",
    "\n",
    "d1 = a*b + c\n",
    "a += h\n",
    "d2 = a*b+c\n",
    "print('d1',d1)\n",
    "print('d2',d2)\n",
    "print('slope',(d2-d1)/h)#slope wrt a\n",
    "\n"
   ]
  },
  {
   "cell_type": "code",
   "execution_count": 8,
   "id": "3aa69117-2f4f-4f5c-a88a-84d5c0332318",
   "metadata": {},
   "outputs": [
    {
     "name": "stdout",
     "output_type": "stream",
     "text": [
      "d1 4.0\n",
      "d2 4.0002\n",
      "slope 2.0000000000042206\n"
     ]
    }
   ],
   "source": [
    "h = 0.0001\n",
    "a = 2.0\n",
    "b = -3.0\n",
    "c = 10.0\n",
    "\n",
    "d1 = a*b + c\n",
    "b += h\n",
    "d2 = a*b+c\n",
    "print('d1',d1)\n",
    "print('d2',d2)\n",
    "print('slope',(d2-d1)/h)#slope wrt b\n"
   ]
  },
  {
   "cell_type": "code",
   "execution_count": 9,
   "id": "abb485e7-c340-4f60-b7c1-a798997061e4",
   "metadata": {},
   "outputs": [
    {
     "name": "stdout",
     "output_type": "stream",
     "text": [
      "d1 4.0\n",
      "d2 4.0001\n",
      "slope 0.9999999999976694\n"
     ]
    }
   ],
   "source": [
    "h = 0.0001\n",
    "a = 2.0\n",
    "b = -3.0\n",
    "c = 10.0\n",
    "\n",
    "d1 = a*b + c\n",
    "c += h\n",
    "d2 = a*b+c\n",
    "print('d1',d1)\n",
    "print('d2',d2)\n",
    "print('slope',(d2-d1)/h)#slope wrt c\n"
   ]
  },
  {
   "cell_type": "code",
   "execution_count": 10,
   "id": "2430c0ea-e63a-4103-b27f-b8981155069d",
   "metadata": {},
   "outputs": [],
   "source": [
    "#data structure used for storing the data\n",
    "\n",
    "class Value:\n",
    "    \n",
    "    def __init__(self,data,_children = (),_op = '',label = ''): #children is empty tuple\n",
    "        self.data = data\n",
    "        self._prev = set(_children) #set\n",
    "        self._op = _op\n",
    "        self.label = label\n",
    "        self.grad = 0.0\n",
    "        self._backward = lambda: None\n",
    "\n",
    "    def __repr__(self):\n",
    "        return f\"Value(data={self.data})\"\n",
    "\n",
    "    def __add__(self,other):\n",
    "        other = other if isinstance(other, Value) else Value(other) #to allow for a + 1 type of operations(a is Value, 1 is int)\n",
    "        out = Value(self.data + other.data,(self,other),'+')\n",
    "\n",
    "        def _backward():\n",
    "            self.grad += 1.0 * out.grad\n",
    "            other.grad += 1.0 * out.grad\n",
    "        out._backward = _backward\n",
    "        \n",
    "        return out\n",
    "\n",
    "    def __mul__(self,other):\n",
    "        other = other if isinstance(other, Value) else Value(other)\n",
    "        out = Value(self.data * other.data,(self,other),'*')\n",
    "        \n",
    "\n",
    "        def _backward():\n",
    "            self.grad += other.data * out.grad\n",
    "            other.grad += self.data * out.grad\n",
    "        out._backward = _backward\n",
    "        return out\n",
    "    \n",
    "\n",
    "    def __pow__(self, other): #will be called when exponentiation is called\n",
    "        assert isinstance(other, (int, float)), \"only supports float/int\"\n",
    "        out = Value(self.data**other, (self,), f'**{other}')\n",
    "\n",
    "        def _backward():\n",
    "            self.grad += other * (self.data ** (other - 1)) * out.grad #nx^(n-1)\n",
    "        out._backward = _backward\n",
    "\n",
    "        return out\n",
    "\n",
    "    def __rmul__(self, other): #other * self, because 2 * a wont work, a * 2 does. rmul will make 2 * a to a * 2, which it knows\n",
    "        return self * other\n",
    "    def __radd__(self, other):\n",
    "        return self + other\n",
    "\n",
    "    def __truediv__(self, other): #self / other\n",
    "        return self * other ** -1\n",
    "\n",
    "    def __neg__(self): #-self\n",
    "        return self * -1\n",
    "\n",
    "    def __sub__(self, other): #self - other\n",
    "        return self + (-other)\n",
    "        \n",
    "    def exp(self):\n",
    "        x = self.data\n",
    "        out = Value(math.exp(x), (self,), 'exp')\n",
    "        def _backward():\n",
    "            self.grad += out.data * out.grad\n",
    "        out._backward = _backward\n",
    "        \n",
    "        return out\n",
    "\n",
    "    def tanh(self):\n",
    "        x = self.data\n",
    "        t = (math.exp(2*x) - 1)/(math.exp(2*x) + 1)\n",
    "        out = Value(t, (self,), 'tanh')\n",
    "\n",
    "        def _backward():\n",
    "            self.grad += (1 - t**2) * out.grad\n",
    "        out._backward = _backward\n",
    "        return out  \n",
    "\n",
    "    def backward(self):\n",
    "        o.grad = None #base case for init (changed from 1.0 to None due to Torch issue)\n",
    "\n",
    "        #topological sort for backward pass automation\n",
    "        #starts at o,lays children in left to right,then finally the parent is added\n",
    "        #topological graph is graph in which all the nodes only move to right\n",
    "        topo = []\n",
    "        visited = set()\n",
    "        def build_topo(v):\n",
    "            if v not in visited:\n",
    "                visited.add(v)\n",
    "                for child in v._prev:\n",
    "                    build_topo(child)\n",
    "                topo.append(v)\n",
    "        build_topo(self)\n",
    "\n",
    "        self.grad = 1.0\n",
    "\n",
    "        for node in reversed(topo):\n",
    "            node._backward() #since the graph given by fun would be from O to start, we want reverse\n",
    "                \n",
    "        \n",
    "\n",
    "#if a + b is written, python will internally call a.__add__(b),thats why\n",
    "#for special operators we use __add__ in def __add__\n",
    "# a * b + c  ===  (a.__mul__(b)).__add__(c)|\n",
    "\n",
    "\n",
    "a = Value(2.0,label = 'a')\n",
    "b = Value(-3.0,label = 'b')\n",
    "c = Value(10.0,label = 'c')\n",
    "e = a * b;\n",
    "e.label = 'e'\n",
    "d = e + c; d.label = 'd'\n",
    "f = Value(-2.0,label = 'f')\n",
    "L = d * f; L.label = 'L'\n"
   ]
  },
  {
   "cell_type": "code",
   "execution_count": 11,
   "id": "83b944ad-818a-4267-9886-618de802aa61",
   "metadata": {},
   "outputs": [
    {
     "data": {
      "text/plain": [
       "Value(data=5.0)"
      ]
     },
     "execution_count": 11,
     "metadata": {},
     "output_type": "execute_result"
    }
   ],
   "source": [
    "a - b"
   ]
  },
  {
   "cell_type": "code",
   "execution_count": 12,
   "id": "66d599b3-9b77-466b-b9d7-ef08447cb5a1",
   "metadata": {},
   "outputs": [],
   "source": [
    "from graphviz import Digraph\n",
    "\n",
    "def trace(root):\n",
    "    #builds a set of all nodes and edges in a graph\n",
    "    nodes, edges = set(), set()\n",
    "    def build(v):\n",
    "        if v not in nodes:\n",
    "            nodes.add(v)\n",
    "            for child in v._prev:\n",
    "                edges.add((child,v))\n",
    "                build(child)\n",
    "    build(root)\n",
    "    return nodes,edges\n",
    "\n",
    "\n",
    "def draw_dot(root):\n",
    "    dot = Digraph(format = 'svg', graph_attr = {\"rankdir\": 'LR'}) #LR: Left to Right\n",
    "\n",
    "    nodes,edges = trace(root)\n",
    "    for n in nodes:\n",
    "        uid = str(id(n))\n",
    "        #for any value in the graph, create a rectangular ('record') node for it\n",
    "        dot.node(name = uid, label = \"{ %s | data %.4f | grad %.4f}\" % (n.label ,n.data,n.grad),shape = 'record')\n",
    "        if n._op:\n",
    "            #if this value is a result of some operation,create an op node for it\n",
    "            dot.node(name = uid + n._op,label = n._op)\n",
    "            #and connect this node to it\n",
    "            dot.edge(uid + n._op, uid)\n",
    "\n",
    "    for n1, n2 in edges:\n",
    "        #connect n1 to the op node of n2\n",
    "        dot.edge(str(id(n1)),str(id(n2)) + n2._op)\n",
    "\n",
    "\n",
    "    return dot\n",
    "            \n",
    "        \n",
    "    "
   ]
  },
  {
   "cell_type": "code",
   "execution_count": 13,
   "id": "21853740-0baa-4a4c-a4ba-40ff3bc9d557",
   "metadata": {},
   "outputs": [],
   "source": [
    "f.grad = 4.0 \n",
    "c.grad = -2.0 \n",
    "e.grad = -2.0\n",
    "d.grad = 1.0\n",
    "a.grad = 6.0 \n",
    "b.grad = -4.0\n",
    "L.grad = 1.0"
   ]
  },
  {
   "cell_type": "code",
   "execution_count": 14,
   "id": "39a4de9b-2e65-4779-9120-34adf3ced93b",
   "metadata": {},
   "outputs": [
    {
     "data": {
      "image/svg+xml": [
       "<?xml version=\"1.0\" encoding=\"UTF-8\" standalone=\"no\"?>\n",
       "<!DOCTYPE svg PUBLIC \"-//W3C//DTD SVG 1.1//EN\"\n",
       " \"http://www.w3.org/Graphics/SVG/1.1/DTD/svg11.dtd\">\n",
       "<!-- Generated by graphviz version 2.50.0 (0)\n",
       " -->\n",
       "<!-- Pages: 1 -->\n",
       "<svg width=\"1156pt\" height=\"154pt\"\n",
       " viewBox=\"0.00 0.00 1156.00 154.00\" xmlns=\"http://www.w3.org/2000/svg\" xmlns:xlink=\"http://www.w3.org/1999/xlink\">\n",
       "<g id=\"graph0\" class=\"graph\" transform=\"scale(1 1) rotate(0) translate(4 150)\">\n",
       "<polygon fill=\"white\" stroke=\"transparent\" points=\"-4,4 -4,-150 1152,-150 1152,4 -4,4\"/>\n",
       "<!-- 4663454224 -->\n",
       "<g id=\"node1\" class=\"node\">\n",
       "<title>4663454224</title>\n",
       "<polygon fill=\"none\" stroke=\"black\" points=\"321,-27.5 321,-63.5 515,-63.5 515,-27.5 321,-27.5\"/>\n",
       "<text text-anchor=\"middle\" x=\"332.5\" y=\"-41.8\" font-family=\"Times,serif\" font-size=\"14.00\">e</text>\n",
       "<polyline fill=\"none\" stroke=\"black\" points=\"344,-27.5 344,-63.5 \"/>\n",
       "<text text-anchor=\"middle\" x=\"386.5\" y=\"-41.8\" font-family=\"Times,serif\" font-size=\"14.00\">data &#45;6.0000</text>\n",
       "<polyline fill=\"none\" stroke=\"black\" points=\"429,-27.5 429,-63.5 \"/>\n",
       "<text text-anchor=\"middle\" x=\"472\" y=\"-41.8\" font-family=\"Times,serif\" font-size=\"14.00\">grad &#45;2.0000</text>\n",
       "</g>\n",
       "<!-- 4663454176+ -->\n",
       "<g id=\"node10\" class=\"node\">\n",
       "<title>4663454176+</title>\n",
       "<ellipse fill=\"none\" stroke=\"black\" cx=\"579\" cy=\"-72.5\" rx=\"27\" ry=\"18\"/>\n",
       "<text text-anchor=\"middle\" x=\"579\" y=\"-68.8\" font-family=\"Times,serif\" font-size=\"14.00\">+</text>\n",
       "</g>\n",
       "<!-- 4663454224&#45;&gt;4663454176+ -->\n",
       "<g id=\"edge7\" class=\"edge\">\n",
       "<title>4663454224&#45;&gt;4663454176+</title>\n",
       "<path fill=\"none\" stroke=\"black\" d=\"M515.16,-61.83C524.82,-63.47 534.13,-65.05 542.49,-66.47\"/>\n",
       "<polygon fill=\"black\" stroke=\"black\" points=\"542.09,-69.95 552.54,-68.18 543.26,-63.05 542.09,-69.95\"/>\n",
       "</g>\n",
       "<!-- 4663454224* -->\n",
       "<g id=\"node2\" class=\"node\">\n",
       "<title>4663454224*</title>\n",
       "<ellipse fill=\"none\" stroke=\"black\" cx=\"257\" cy=\"-45.5\" rx=\"27\" ry=\"18\"/>\n",
       "<text text-anchor=\"middle\" x=\"257\" y=\"-41.8\" font-family=\"Times,serif\" font-size=\"14.00\">*</text>\n",
       "</g>\n",
       "<!-- 4663454224*&#45;&gt;4663454224 -->\n",
       "<g id=\"edge1\" class=\"edge\">\n",
       "<title>4663454224*&#45;&gt;4663454224</title>\n",
       "<path fill=\"none\" stroke=\"black\" d=\"M284.26,-45.5C292.05,-45.5 301.1,-45.5 310.75,-45.5\"/>\n",
       "<polygon fill=\"black\" stroke=\"black\" points=\"310.99,-49 320.99,-45.5 310.99,-42 310.99,-49\"/>\n",
       "</g>\n",
       "<!-- 4663459360 -->\n",
       "<g id=\"node3\" class=\"node\">\n",
       "<title>4663459360</title>\n",
       "<polygon fill=\"none\" stroke=\"black\" points=\"4.5,-55.5 4.5,-91.5 189.5,-91.5 189.5,-55.5 4.5,-55.5\"/>\n",
       "<text text-anchor=\"middle\" x=\"16\" y=\"-69.8\" font-family=\"Times,serif\" font-size=\"14.00\">a</text>\n",
       "<polyline fill=\"none\" stroke=\"black\" points=\"27.5,-55.5 27.5,-91.5 \"/>\n",
       "<text text-anchor=\"middle\" x=\"67.5\" y=\"-69.8\" font-family=\"Times,serif\" font-size=\"14.00\">data 2.0000</text>\n",
       "<polyline fill=\"none\" stroke=\"black\" points=\"107.5,-55.5 107.5,-91.5 \"/>\n",
       "<text text-anchor=\"middle\" x=\"148.5\" y=\"-69.8\" font-family=\"Times,serif\" font-size=\"14.00\">grad 6.0000</text>\n",
       "</g>\n",
       "<!-- 4663459360&#45;&gt;4663454224* -->\n",
       "<g id=\"edge5\" class=\"edge\">\n",
       "<title>4663459360&#45;&gt;4663454224*</title>\n",
       "<path fill=\"none\" stroke=\"black\" d=\"M189.91,-57.21C200.76,-55.29 211.28,-53.43 220.61,-51.77\"/>\n",
       "<polygon fill=\"black\" stroke=\"black\" points=\"221.37,-55.19 230.6,-50 220.15,-48.3 221.37,-55.19\"/>\n",
       "</g>\n",
       "<!-- 4663454272 -->\n",
       "<g id=\"node4\" class=\"node\">\n",
       "<title>4663454272</title>\n",
       "<polygon fill=\"none\" stroke=\"black\" points=\"642,-109.5 642,-145.5 830,-145.5 830,-109.5 642,-109.5\"/>\n",
       "<text text-anchor=\"middle\" x=\"652.5\" y=\"-123.8\" font-family=\"Times,serif\" font-size=\"14.00\">f</text>\n",
       "<polyline fill=\"none\" stroke=\"black\" points=\"663,-109.5 663,-145.5 \"/>\n",
       "<text text-anchor=\"middle\" x=\"705.5\" y=\"-123.8\" font-family=\"Times,serif\" font-size=\"14.00\">data &#45;2.0000</text>\n",
       "<polyline fill=\"none\" stroke=\"black\" points=\"748,-109.5 748,-145.5 \"/>\n",
       "<text text-anchor=\"middle\" x=\"789\" y=\"-123.8\" font-family=\"Times,serif\" font-size=\"14.00\">grad 4.0000</text>\n",
       "</g>\n",
       "<!-- 4663453984* -->\n",
       "<g id=\"node8\" class=\"node\">\n",
       "<title>4663453984*</title>\n",
       "<ellipse fill=\"none\" stroke=\"black\" cx=\"893\" cy=\"-99.5\" rx=\"27\" ry=\"18\"/>\n",
       "<text text-anchor=\"middle\" x=\"893\" y=\"-95.8\" font-family=\"Times,serif\" font-size=\"14.00\">*</text>\n",
       "</g>\n",
       "<!-- 4663454272&#45;&gt;4663453984* -->\n",
       "<g id=\"edge6\" class=\"edge\">\n",
       "<title>4663454272&#45;&gt;4663453984*</title>\n",
       "<path fill=\"none\" stroke=\"black\" d=\"M830.29,-110.65C839.57,-108.97 848.52,-107.35 856.61,-105.89\"/>\n",
       "<polygon fill=\"black\" stroke=\"black\" points=\"857.46,-109.3 866.68,-104.07 856.21,-102.41 857.46,-109.3\"/>\n",
       "</g>\n",
       "<!-- 4663443520 -->\n",
       "<g id=\"node5\" class=\"node\">\n",
       "<title>4663443520</title>\n",
       "<polygon fill=\"none\" stroke=\"black\" points=\"320,-82.5 320,-118.5 516,-118.5 516,-82.5 320,-82.5\"/>\n",
       "<text text-anchor=\"middle\" x=\"331.5\" y=\"-96.8\" font-family=\"Times,serif\" font-size=\"14.00\">c</text>\n",
       "<polyline fill=\"none\" stroke=\"black\" points=\"343,-82.5 343,-118.5 \"/>\n",
       "<text text-anchor=\"middle\" x=\"386.5\" y=\"-96.8\" font-family=\"Times,serif\" font-size=\"14.00\">data 10.0000</text>\n",
       "<polyline fill=\"none\" stroke=\"black\" points=\"430,-82.5 430,-118.5 \"/>\n",
       "<text text-anchor=\"middle\" x=\"473\" y=\"-96.8\" font-family=\"Times,serif\" font-size=\"14.00\">grad &#45;2.0000</text>\n",
       "</g>\n",
       "<!-- 4663443520&#45;&gt;4663454176+ -->\n",
       "<g id=\"edge4\" class=\"edge\">\n",
       "<title>4663443520&#45;&gt;4663454176+</title>\n",
       "<path fill=\"none\" stroke=\"black\" d=\"M516.07,-83.41C525.42,-81.76 534.43,-80.17 542.55,-78.74\"/>\n",
       "<polygon fill=\"black\" stroke=\"black\" points=\"543.41,-82.15 552.65,-76.96 542.2,-75.25 543.41,-82.15\"/>\n",
       "</g>\n",
       "<!-- 4663458976 -->\n",
       "<g id=\"node6\" class=\"node\">\n",
       "<title>4663458976</title>\n",
       "<polygon fill=\"none\" stroke=\"black\" points=\"0,-0.5 0,-36.5 194,-36.5 194,-0.5 0,-0.5\"/>\n",
       "<text text-anchor=\"middle\" x=\"11.5\" y=\"-14.8\" font-family=\"Times,serif\" font-size=\"14.00\">b</text>\n",
       "<polyline fill=\"none\" stroke=\"black\" points=\"23,-0.5 23,-36.5 \"/>\n",
       "<text text-anchor=\"middle\" x=\"65.5\" y=\"-14.8\" font-family=\"Times,serif\" font-size=\"14.00\">data &#45;3.0000</text>\n",
       "<polyline fill=\"none\" stroke=\"black\" points=\"108,-0.5 108,-36.5 \"/>\n",
       "<text text-anchor=\"middle\" x=\"151\" y=\"-14.8\" font-family=\"Times,serif\" font-size=\"14.00\">grad &#45;4.0000</text>\n",
       "</g>\n",
       "<!-- 4663458976&#45;&gt;4663454224* -->\n",
       "<g id=\"edge8\" class=\"edge\">\n",
       "<title>4663458976&#45;&gt;4663454224*</title>\n",
       "<path fill=\"none\" stroke=\"black\" d=\"M194.01,-34.91C203.35,-36.5 212.37,-38.04 220.49,-39.43\"/>\n",
       "<polygon fill=\"black\" stroke=\"black\" points=\"220.16,-42.93 230.6,-41.16 221.34,-36.03 220.16,-42.93\"/>\n",
       "</g>\n",
       "<!-- 4663453984 -->\n",
       "<g id=\"node7\" class=\"node\">\n",
       "<title>4663453984</title>\n",
       "<polygon fill=\"none\" stroke=\"black\" points=\"956,-81.5 956,-117.5 1148,-117.5 1148,-81.5 956,-81.5\"/>\n",
       "<text text-anchor=\"middle\" x=\"968.5\" y=\"-95.8\" font-family=\"Times,serif\" font-size=\"14.00\">L</text>\n",
       "<polyline fill=\"none\" stroke=\"black\" points=\"981,-81.5 981,-117.5 \"/>\n",
       "<text text-anchor=\"middle\" x=\"1023.5\" y=\"-95.8\" font-family=\"Times,serif\" font-size=\"14.00\">data &#45;8.0000</text>\n",
       "<polyline fill=\"none\" stroke=\"black\" points=\"1066,-81.5 1066,-117.5 \"/>\n",
       "<text text-anchor=\"middle\" x=\"1107\" y=\"-95.8\" font-family=\"Times,serif\" font-size=\"14.00\">grad 1.0000</text>\n",
       "</g>\n",
       "<!-- 4663453984*&#45;&gt;4663453984 -->\n",
       "<g id=\"edge2\" class=\"edge\">\n",
       "<title>4663453984*&#45;&gt;4663453984</title>\n",
       "<path fill=\"none\" stroke=\"black\" d=\"M920.28,-99.5C927.78,-99.5 936.44,-99.5 945.67,-99.5\"/>\n",
       "<polygon fill=\"black\" stroke=\"black\" points=\"945.87,-103 955.87,-99.5 945.87,-96 945.87,-103\"/>\n",
       "</g>\n",
       "<!-- 4663454176 -->\n",
       "<g id=\"node9\" class=\"node\">\n",
       "<title>4663454176</title>\n",
       "<polygon fill=\"none\" stroke=\"black\" points=\"643.5,-54.5 643.5,-90.5 828.5,-90.5 828.5,-54.5 643.5,-54.5\"/>\n",
       "<text text-anchor=\"middle\" x=\"655\" y=\"-68.8\" font-family=\"Times,serif\" font-size=\"14.00\">d</text>\n",
       "<polyline fill=\"none\" stroke=\"black\" points=\"666.5,-54.5 666.5,-90.5 \"/>\n",
       "<text text-anchor=\"middle\" x=\"706.5\" y=\"-68.8\" font-family=\"Times,serif\" font-size=\"14.00\">data 4.0000</text>\n",
       "<polyline fill=\"none\" stroke=\"black\" points=\"746.5,-54.5 746.5,-90.5 \"/>\n",
       "<text text-anchor=\"middle\" x=\"787.5\" y=\"-68.8\" font-family=\"Times,serif\" font-size=\"14.00\">grad 1.0000</text>\n",
       "</g>\n",
       "<!-- 4663454176&#45;&gt;4663453984* -->\n",
       "<g id=\"edge9\" class=\"edge\">\n",
       "<title>4663454176&#45;&gt;4663453984*</title>\n",
       "<path fill=\"none\" stroke=\"black\" d=\"M828.51,-88.44C838.48,-90.18 848.13,-91.86 856.77,-93.36\"/>\n",
       "<polygon fill=\"black\" stroke=\"black\" points=\"856.31,-96.84 866.77,-95.1 857.52,-89.94 856.31,-96.84\"/>\n",
       "</g>\n",
       "<!-- 4663454176+&#45;&gt;4663454176 -->\n",
       "<g id=\"edge3\" class=\"edge\">\n",
       "<title>4663454176+&#45;&gt;4663454176</title>\n",
       "<path fill=\"none\" stroke=\"black\" d=\"M606.29,-72.5C614.26,-72.5 623.54,-72.5 633.39,-72.5\"/>\n",
       "<polygon fill=\"black\" stroke=\"black\" points=\"633.41,-76 643.41,-72.5 633.41,-69 633.41,-76\"/>\n",
       "</g>\n",
       "</g>\n",
       "</svg>\n"
      ],
      "text/plain": [
       "<graphviz.graphs.Digraph at 0x115f694e0>"
      ]
     },
     "execution_count": 14,
     "metadata": {},
     "output_type": "execute_result"
    }
   ],
   "source": [
    "draw_dot(L)"
   ]
  },
  {
   "cell_type": "markdown",
   "id": "c40ff7c5-4af9-41ce-b75b-ab2ca4c3ed0d",
   "metadata": {},
   "source": [
    "forward pass is done. multiple variable goes through operations and then some\n",
    "result L is created. L is loss function.\n",
    "now doing backpropagation and calculating gradient by calulating derivate wrt previous nodes"
   ]
  },
  {
   "cell_type": "markdown",
   "id": "a78787b5-9fbb-4cf2-97f5-35d8b21dc32f",
   "metadata": {},
   "source": [
    "f.grad = 4.0 #since L = d * f\n",
    "d.grad = -2.0\n",
    "L.grad = 1.0 #derivate of L wrt L"
   ]
  },
  {
   "cell_type": "markdown",
   "id": "dcb104c3-52b8-4473-95de-ad5fc7374f8b",
   "metadata": {},
   "source": [
    "dd/ dc? 1.0\n",
    "dd/de ? 1.0\n",
    "d = c + e\n",
    "\n",
    "dL/dc = dL/dd * dd/dc\n",
    "as there is  \"+\" operation,it basically routes d's derivate to e and c\n",
    "dL/dc = -2\n",
    "c.grad = -2.0\n",
    "e.grad = -2.0\n",
    "\n",
    "a.grad = 6.0\n",
    "b.grad = -4.0(to find)\n",
    "\n",
    "similary for a and b is found\n",
    "\n",
    "manual backpropagation by upgrading x.grad\n",
    "iterated over all nodes and applied chain rule\n",
    "applying inputs to make L go up\n",
    "\n",
    "if you want L to go up, 'a' should be increased by gradient. it should be put in direction of L along with a small step (0.01)\n",
    "we have nudged all of the nodes in direction of gradient,we expect L to increase in value."
   ]
  },
  {
   "cell_type": "code",
   "execution_count": 15,
   "id": "f12f1c2c-ad42-4b18-a7c4-02a6554c832d",
   "metadata": {},
   "outputs": [
    {
     "name": "stdout",
     "output_type": "stream",
     "text": [
      "-7.286496\n"
     ]
    }
   ],
   "source": [
    "a.data += 0.01 * a.grad\n",
    "b.data += 0.01 * b.grad\n",
    "c.data += 0.01 * c.grad\n",
    "f.data += 0.01 * f.grad\n",
    "#these are all leaf nodes. we expect L to go up(become less negative) when nudged by gradient.\n",
    "\n",
    "e = a * b\n",
    "d = e + c\n",
    "L = d * f\n",
    "print(L.data)"
   ]
  },
  {
   "cell_type": "code",
   "execution_count": 16,
   "id": "d18fc59a-d73f-45fb-afae-2cc03af44e77",
   "metadata": {},
   "outputs": [
    {
     "name": "stdout",
     "output_type": "stream",
     "text": [
      "-1.9999999999953388\n"
     ]
    }
   ],
   "source": [
    "def lol():\n",
    "\n",
    "    h = 0.0001\n",
    "    \n",
    "    a = Value(2.0,label = 'a')\n",
    "    b = Value(-3.0,label = 'b')\n",
    "    c = Value(10.0,label = 'c')\n",
    "    e = a * b;\n",
    "    e.label = 'e'\n",
    "    d = e + c; d.label = 'd'\n",
    "    f = Value(-2.0,label = 'f')\n",
    "    L = d * f; L.label = 'L'\n",
    "    L1 = L.data\n",
    "    \n",
    "    a = Value(2.0  ,label = 'a')\n",
    "    b = Value(-3.0,label = 'b')\n",
    "    c = Value(10.0,label = 'c')\n",
    "    e = a * b;\n",
    "    e.label = 'e'\n",
    "    d = e + c; d.label = 'd'\n",
    "    d.data += h\n",
    "    f = Value(-2.0,label = 'f')\n",
    "    L = d * f; L.label = 'L'\n",
    "    L2 = L.data\n",
    "    print((L2 - L1)/h)\n",
    "\n",
    "lol()"
   ]
  },
  {
   "cell_type": "code",
   "execution_count": 17,
   "id": "64473e27-ac28-4222-a9d4-d59617c50e25",
   "metadata": {},
   "outputs": [],
   "source": [
    " #backpropagate through neural net. multilayer perceptron models, summation of wixi + b and activation function etc"
   ]
  },
  {
   "cell_type": "code",
   "execution_count": 18,
   "id": "8a2bd7ba-8f47-4c33-b482-25db13ce9820",
   "metadata": {},
   "outputs": [
    {
     "data": {
      "image/png": "[encoded data removed]",
      "text/plain": [
       "<Figure size 640x480 with 1 Axes>"
      ]
     },
     "metadata": {},
     "output_type": "display_data"
    }
   ],
   "source": [
    "plt.plot(np.arange(-5,5,0.2), np.tanh(np.arange(-5,5,0.2)));plt.grid();"
   ]
  },
  {
   "cell_type": "code",
   "execution_count": 19,
   "id": "f6d86c6f-92b2-48b7-baed-a86ba4f9b8e4",
   "metadata": {},
   "outputs": [],
   "source": [
    "#inputs x1,x2\n",
    "x1 = Value(2.0, label = \"x1\")\n",
    "x2 = Value(0.0, label = \"x2\")\n",
    "#weights w1,w2\n",
    "w1 = Value(-3.0, label = \"w1\")\n",
    "w2 = Value(1.0, label = \"w2\")\n",
    "#bias of the neuron\n",
    "b = Value (6.88137358, label = 'b') #bias was changed,numbers will come better with this value acc to Andrej\n",
    "#x1w1 + x2w2 + b\n",
    "x1w1 = x1 * w1; x1w1.label = 'x1*w1'\n",
    "x2w2 = x2 * w2; x2w2.label = 'x2*w2'\n",
    "x1w1x2w2 = x1w1 + x2w2; x1w1x2w2.label = 'x1w1 + x2w2'\n",
    "n = x1w1x2w2 + b; n.label = 'n'\n",
    "\n",
    "#activation fun\n",
    "o = n.tanh();o.label = 'o'\n",
    "o.backward()"
   ]
  },
  {
   "cell_type": "code",
   "execution_count": 20,
   "id": "9e85be14-0b7a-4050-b1c8-c07391cc3046",
   "metadata": {
    "scrolled": true
   },
   "outputs": [
    {
     "data": {
      "image/svg+xml": [
       "<?xml version=\"1.0\" encoding=\"UTF-8\" standalone=\"no\"?>\n",
       "<!DOCTYPE svg PUBLIC \"-//W3C//DTD SVG 1.1//EN\"\n",
       " \"http://www.w3.org/Graphics/SVG/1.1/DTD/svg11.dtd\">\n",
       "<!-- Generated by graphviz version 2.50.0 (0)\n",
       " -->\n",
       "<!-- Pages: 1 -->\n",
       "<svg width=\"1561pt\" height=\"210pt\"\n",
       " viewBox=\"0.00 0.00 1561.00 210.00\" xmlns=\"http://www.w3.org/2000/svg\" xmlns:xlink=\"http://www.w3.org/1999/xlink\">\n",
       "<g id=\"graph0\" class=\"graph\" transform=\"scale(1 1) rotate(0) translate(4 206)\">\n",
       "<polygon fill=\"white\" stroke=\"transparent\" points=\"-4,4 -4,-206 1557,-206 1557,4 -4,4\"/>\n",
       "<!-- 4664308736 -->\n",
       "<g id=\"node1\" class=\"node\">\n",
       "<title>4664308736</title>\n",
       "<polygon fill=\"none\" stroke=\"black\" points=\"2,-165.5 2,-201.5 198,-201.5 198,-165.5 2,-165.5\"/>\n",
       "<text text-anchor=\"middle\" x=\"17\" y=\"-179.8\" font-family=\"Times,serif\" font-size=\"14.00\">x1</text>\n",
       "<polyline fill=\"none\" stroke=\"black\" points=\"32,-165.5 32,-201.5 \"/>\n",
       "<text text-anchor=\"middle\" x=\"72\" y=\"-179.8\" font-family=\"Times,serif\" font-size=\"14.00\">data 2.0000</text>\n",
       "<polyline fill=\"none\" stroke=\"black\" points=\"112,-165.5 112,-201.5 \"/>\n",
       "<text text-anchor=\"middle\" x=\"155\" y=\"-179.8\" font-family=\"Times,serif\" font-size=\"14.00\">grad &#45;1.5000</text>\n",
       "</g>\n",
       "<!-- 4664415168* -->\n",
       "<g id=\"node15\" class=\"node\">\n",
       "<title>4664415168*</title>\n",
       "<ellipse fill=\"none\" stroke=\"black\" cx=\"263\" cy=\"-128.5\" rx=\"27\" ry=\"18\"/>\n",
       "<text text-anchor=\"middle\" x=\"263\" y=\"-124.8\" font-family=\"Times,serif\" font-size=\"14.00\">*</text>\n",
       "</g>\n",
       "<!-- 4664308736&#45;&gt;4664415168* -->\n",
       "<g id=\"edge6\" class=\"edge\">\n",
       "<title>4664308736&#45;&gt;4664415168*</title>\n",
       "<path fill=\"none\" stroke=\"black\" d=\"M172.53,-165.44C181.84,-162.67 191.2,-159.67 200,-156.5 210.53,-152.71 221.75,-147.9 231.72,-143.33\"/>\n",
       "<polygon fill=\"black\" stroke=\"black\" points=\"233.25,-146.48 240.82,-139.07 230.28,-140.14 233.25,-146.48\"/>\n",
       "</g>\n",
       "<!-- 4664412192 -->\n",
       "<g id=\"node2\" class=\"node\">\n",
       "<title>4664412192</title>\n",
       "<polygon fill=\"none\" stroke=\"black\" points=\"1057,-54.5 1057,-90.5 1242,-90.5 1242,-54.5 1057,-54.5\"/>\n",
       "<text text-anchor=\"middle\" x=\"1068.5\" y=\"-68.8\" font-family=\"Times,serif\" font-size=\"14.00\">n</text>\n",
       "<polyline fill=\"none\" stroke=\"black\" points=\"1080,-54.5 1080,-90.5 \"/>\n",
       "<text text-anchor=\"middle\" x=\"1120\" y=\"-68.8\" font-family=\"Times,serif\" font-size=\"14.00\">data 0.8814</text>\n",
       "<polyline fill=\"none\" stroke=\"black\" points=\"1160,-54.5 1160,-90.5 \"/>\n",
       "<text text-anchor=\"middle\" x=\"1201\" y=\"-68.8\" font-family=\"Times,serif\" font-size=\"14.00\">grad 0.5000</text>\n",
       "</g>\n",
       "<!-- 4664415408tanh -->\n",
       "<g id=\"node9\" class=\"node\">\n",
       "<title>4664415408tanh</title>\n",
       "<ellipse fill=\"none\" stroke=\"black\" cx=\"1305\" cy=\"-72.5\" rx=\"27\" ry=\"18\"/>\n",
       "<text text-anchor=\"middle\" x=\"1305\" y=\"-68.8\" font-family=\"Times,serif\" font-size=\"14.00\">tanh</text>\n",
       "</g>\n",
       "<!-- 4664412192&#45;&gt;4664415408tanh -->\n",
       "<g id=\"edge14\" class=\"edge\">\n",
       "<title>4664412192&#45;&gt;4664415408tanh</title>\n",
       "<path fill=\"none\" stroke=\"black\" d=\"M1242.01,-72.5C1251.01,-72.5 1259.74,-72.5 1267.66,-72.5\"/>\n",
       "<polygon fill=\"black\" stroke=\"black\" points=\"1267.91,-76 1277.91,-72.5 1267.91,-69 1267.91,-76\"/>\n",
       "</g>\n",
       "<!-- 4664412192+ -->\n",
       "<g id=\"node3\" class=\"node\">\n",
       "<title>4664412192+</title>\n",
       "<ellipse fill=\"none\" stroke=\"black\" cx=\"994\" cy=\"-72.5\" rx=\"27\" ry=\"18\"/>\n",
       "<text text-anchor=\"middle\" x=\"994\" y=\"-68.8\" font-family=\"Times,serif\" font-size=\"14.00\">+</text>\n",
       "</g>\n",
       "<!-- 4664412192+&#45;&gt;4664412192 -->\n",
       "<g id=\"edge1\" class=\"edge\">\n",
       "<title>4664412192+&#45;&gt;4664412192</title>\n",
       "<path fill=\"none\" stroke=\"black\" d=\"M1021.04,-72.5C1028.58,-72.5 1037.3,-72.5 1046.57,-72.5\"/>\n",
       "<polygon fill=\"black\" stroke=\"black\" points=\"1046.81,-76 1056.81,-72.5 1046.81,-69 1046.81,-76\"/>\n",
       "</g>\n",
       "<!-- 4664411184 -->\n",
       "<g id=\"node4\" class=\"node\">\n",
       "<title>4664411184</title>\n",
       "<polygon fill=\"none\" stroke=\"black\" points=\"328.5,-55.5 328.5,-91.5 543.5,-91.5 543.5,-55.5 328.5,-55.5\"/>\n",
       "<text text-anchor=\"middle\" x=\"355\" y=\"-69.8\" font-family=\"Times,serif\" font-size=\"14.00\">x2*w2</text>\n",
       "<polyline fill=\"none\" stroke=\"black\" points=\"381.5,-55.5 381.5,-91.5 \"/>\n",
       "<text text-anchor=\"middle\" x=\"421.5\" y=\"-69.8\" font-family=\"Times,serif\" font-size=\"14.00\">data 0.0000</text>\n",
       "<polyline fill=\"none\" stroke=\"black\" points=\"461.5,-55.5 461.5,-91.5 \"/>\n",
       "<text text-anchor=\"middle\" x=\"502.5\" y=\"-69.8\" font-family=\"Times,serif\" font-size=\"14.00\">grad 0.5000</text>\n",
       "</g>\n",
       "<!-- 4664411376+ -->\n",
       "<g id=\"node12\" class=\"node\">\n",
       "<title>4664411376+</title>\n",
       "<ellipse fill=\"none\" stroke=\"black\" cx=\"609\" cy=\"-100.5\" rx=\"27\" ry=\"18\"/>\n",
       "<text text-anchor=\"middle\" x=\"609\" y=\"-96.8\" font-family=\"Times,serif\" font-size=\"14.00\">+</text>\n",
       "</g>\n",
       "<!-- 4664411184&#45;&gt;4664411376+ -->\n",
       "<g id=\"edge11\" class=\"edge\">\n",
       "<title>4664411184&#45;&gt;4664411376+</title>\n",
       "<path fill=\"none\" stroke=\"black\" d=\"M543.84,-90.37C554.01,-91.98 563.76,-93.51 572.44,-94.89\"/>\n",
       "<polygon fill=\"black\" stroke=\"black\" points=\"572.05,-98.37 582.47,-96.47 573.14,-91.45 572.05,-98.37\"/>\n",
       "</g>\n",
       "<!-- 4664411184* -->\n",
       "<g id=\"node5\" class=\"node\">\n",
       "<title>4664411184*</title>\n",
       "<ellipse fill=\"none\" stroke=\"black\" cx=\"263\" cy=\"-73.5\" rx=\"27\" ry=\"18\"/>\n",
       "<text text-anchor=\"middle\" x=\"263\" y=\"-69.8\" font-family=\"Times,serif\" font-size=\"14.00\">*</text>\n",
       "</g>\n",
       "<!-- 4664411184*&#45;&gt;4664411184 -->\n",
       "<g id=\"edge2\" class=\"edge\">\n",
       "<title>4664411184*&#45;&gt;4664411184</title>\n",
       "<path fill=\"none\" stroke=\"black\" d=\"M290.34,-73.5C298.51,-73.5 308.08,-73.5 318.36,-73.5\"/>\n",
       "<polygon fill=\"black\" stroke=\"black\" points=\"318.39,-77 328.39,-73.5 318.39,-70 318.39,-77\"/>\n",
       "</g>\n",
       "<!-- 4664304752 -->\n",
       "<g id=\"node6\" class=\"node\">\n",
       "<title>4664304752</title>\n",
       "<polygon fill=\"none\" stroke=\"black\" points=\"4,-55.5 4,-91.5 196,-91.5 196,-55.5 4,-55.5\"/>\n",
       "<text text-anchor=\"middle\" x=\"19\" y=\"-69.8\" font-family=\"Times,serif\" font-size=\"14.00\">x2</text>\n",
       "<polyline fill=\"none\" stroke=\"black\" points=\"34,-55.5 34,-91.5 \"/>\n",
       "<text text-anchor=\"middle\" x=\"74\" y=\"-69.8\" font-family=\"Times,serif\" font-size=\"14.00\">data 0.0000</text>\n",
       "<polyline fill=\"none\" stroke=\"black\" points=\"114,-55.5 114,-91.5 \"/>\n",
       "<text text-anchor=\"middle\" x=\"155\" y=\"-69.8\" font-family=\"Times,serif\" font-size=\"14.00\">grad 0.5000</text>\n",
       "</g>\n",
       "<!-- 4664304752&#45;&gt;4664411184* -->\n",
       "<g id=\"edge8\" class=\"edge\">\n",
       "<title>4664304752&#45;&gt;4664411184*</title>\n",
       "<path fill=\"none\" stroke=\"black\" d=\"M196.05,-73.5C206.52,-73.5 216.65,-73.5 225.71,-73.5\"/>\n",
       "<polygon fill=\"black\" stroke=\"black\" points=\"225.79,-77 235.79,-73.5 225.79,-70 225.79,-77\"/>\n",
       "</g>\n",
       "<!-- 4664309408 -->\n",
       "<g id=\"node7\" class=\"node\">\n",
       "<title>4664309408</title>\n",
       "<polygon fill=\"none\" stroke=\"black\" points=\"0,-110.5 0,-146.5 200,-146.5 200,-110.5 0,-110.5\"/>\n",
       "<text text-anchor=\"middle\" x=\"16.5\" y=\"-124.8\" font-family=\"Times,serif\" font-size=\"14.00\">w1</text>\n",
       "<polyline fill=\"none\" stroke=\"black\" points=\"33,-110.5 33,-146.5 \"/>\n",
       "<text text-anchor=\"middle\" x=\"75.5\" y=\"-124.8\" font-family=\"Times,serif\" font-size=\"14.00\">data &#45;3.0000</text>\n",
       "<polyline fill=\"none\" stroke=\"black\" points=\"118,-110.5 118,-146.5 \"/>\n",
       "<text text-anchor=\"middle\" x=\"159\" y=\"-124.8\" font-family=\"Times,serif\" font-size=\"14.00\">grad 1.0000</text>\n",
       "</g>\n",
       "<!-- 4664309408&#45;&gt;4664415168* -->\n",
       "<g id=\"edge9\" class=\"edge\">\n",
       "<title>4664309408&#45;&gt;4664415168*</title>\n",
       "<path fill=\"none\" stroke=\"black\" d=\"M200.21,-128.5C209.2,-128.5 217.86,-128.5 225.7,-128.5\"/>\n",
       "<polygon fill=\"black\" stroke=\"black\" points=\"225.85,-132 235.85,-128.5 225.85,-125 225.85,-132\"/>\n",
       "</g>\n",
       "<!-- 4664415408 -->\n",
       "<g id=\"node8\" class=\"node\">\n",
       "<title>4664415408</title>\n",
       "<polygon fill=\"none\" stroke=\"black\" points=\"1368,-54.5 1368,-90.5 1553,-90.5 1553,-54.5 1368,-54.5\"/>\n",
       "<text text-anchor=\"middle\" x=\"1379.5\" y=\"-68.8\" font-family=\"Times,serif\" font-size=\"14.00\">o</text>\n",
       "<polyline fill=\"none\" stroke=\"black\" points=\"1391,-54.5 1391,-90.5 \"/>\n",
       "<text text-anchor=\"middle\" x=\"1431\" y=\"-68.8\" font-family=\"Times,serif\" font-size=\"14.00\">data 0.7071</text>\n",
       "<polyline fill=\"none\" stroke=\"black\" points=\"1471,-54.5 1471,-90.5 \"/>\n",
       "<text text-anchor=\"middle\" x=\"1512\" y=\"-68.8\" font-family=\"Times,serif\" font-size=\"14.00\">grad 1.0000</text>\n",
       "</g>\n",
       "<!-- 4664415408tanh&#45;&gt;4664415408 -->\n",
       "<g id=\"edge3\" class=\"edge\">\n",
       "<title>4664415408tanh&#45;&gt;4664415408</title>\n",
       "<path fill=\"none\" stroke=\"black\" d=\"M1332.04,-72.5C1339.58,-72.5 1348.3,-72.5 1357.57,-72.5\"/>\n",
       "<polygon fill=\"black\" stroke=\"black\" points=\"1357.81,-76 1367.81,-72.5 1357.81,-69 1357.81,-76\"/>\n",
       "</g>\n",
       "<!-- 4664302256 -->\n",
       "<g id=\"node10\" class=\"node\">\n",
       "<title>4664302256</title>\n",
       "<polygon fill=\"none\" stroke=\"black\" points=\"2.5,-0.5 2.5,-36.5 197.5,-36.5 197.5,-0.5 2.5,-0.5\"/>\n",
       "<text text-anchor=\"middle\" x=\"19\" y=\"-14.8\" font-family=\"Times,serif\" font-size=\"14.00\">w2</text>\n",
       "<polyline fill=\"none\" stroke=\"black\" points=\"35.5,-0.5 35.5,-36.5 \"/>\n",
       "<text text-anchor=\"middle\" x=\"75.5\" y=\"-14.8\" font-family=\"Times,serif\" font-size=\"14.00\">data 1.0000</text>\n",
       "<polyline fill=\"none\" stroke=\"black\" points=\"115.5,-0.5 115.5,-36.5 \"/>\n",
       "<text text-anchor=\"middle\" x=\"156.5\" y=\"-14.8\" font-family=\"Times,serif\" font-size=\"14.00\">grad 0.0000</text>\n",
       "</g>\n",
       "<!-- 4664302256&#45;&gt;4664411184* -->\n",
       "<g id=\"edge10\" class=\"edge\">\n",
       "<title>4664302256&#45;&gt;4664411184*</title>\n",
       "<path fill=\"none\" stroke=\"black\" d=\"M169.28,-36.5C179.65,-39.61 190.16,-42.98 200,-46.5 210.28,-50.17 221.28,-54.74 231.11,-59.07\"/>\n",
       "<polygon fill=\"black\" stroke=\"black\" points=\"229.93,-62.37 240.48,-63.27 232.79,-55.99 229.93,-62.37\"/>\n",
       "</g>\n",
       "<!-- 4664411376 -->\n",
       "<g id=\"node11\" class=\"node\">\n",
       "<title>4664411376</title>\n",
       "<polygon fill=\"none\" stroke=\"black\" points=\"672,-82.5 672,-118.5 931,-118.5 931,-82.5 672,-82.5\"/>\n",
       "<text text-anchor=\"middle\" x=\"718\" y=\"-96.8\" font-family=\"Times,serif\" font-size=\"14.00\">x1w1 + x2w2</text>\n",
       "<polyline fill=\"none\" stroke=\"black\" points=\"764,-82.5 764,-118.5 \"/>\n",
       "<text text-anchor=\"middle\" x=\"806.5\" y=\"-96.8\" font-family=\"Times,serif\" font-size=\"14.00\">data &#45;6.0000</text>\n",
       "<polyline fill=\"none\" stroke=\"black\" points=\"849,-82.5 849,-118.5 \"/>\n",
       "<text text-anchor=\"middle\" x=\"890\" y=\"-96.8\" font-family=\"Times,serif\" font-size=\"14.00\">grad 0.5000</text>\n",
       "</g>\n",
       "<!-- 4664411376&#45;&gt;4664412192+ -->\n",
       "<g id=\"edge12\" class=\"edge\">\n",
       "<title>4664411376&#45;&gt;4664412192+</title>\n",
       "<path fill=\"none\" stroke=\"black\" d=\"M925.03,-82.49C936.7,-80.77 947.77,-79.15 957.46,-77.72\"/>\n",
       "<polygon fill=\"black\" stroke=\"black\" points=\"958.01,-81.18 967.4,-76.26 957,-74.25 958.01,-81.18\"/>\n",
       "</g>\n",
       "<!-- 4664411376+&#45;&gt;4664411376 -->\n",
       "<g id=\"edge4\" class=\"edge\">\n",
       "<title>4664411376+&#45;&gt;4664411376</title>\n",
       "<path fill=\"none\" stroke=\"black\" d=\"M636.09,-100.5C643.58,-100.5 652.3,-100.5 661.75,-100.5\"/>\n",
       "<polygon fill=\"black\" stroke=\"black\" points=\"661.84,-104 671.84,-100.5 661.84,-97 661.84,-104\"/>\n",
       "</g>\n",
       "<!-- 4664303360 -->\n",
       "<g id=\"node13\" class=\"node\">\n",
       "<title>4664303360</title>\n",
       "<polygon fill=\"none\" stroke=\"black\" points=\"709,-27.5 709,-63.5 894,-63.5 894,-27.5 709,-27.5\"/>\n",
       "<text text-anchor=\"middle\" x=\"720.5\" y=\"-41.8\" font-family=\"Times,serif\" font-size=\"14.00\">b</text>\n",
       "<polyline fill=\"none\" stroke=\"black\" points=\"732,-27.5 732,-63.5 \"/>\n",
       "<text text-anchor=\"middle\" x=\"772\" y=\"-41.8\" font-family=\"Times,serif\" font-size=\"14.00\">data 6.8814</text>\n",
       "<polyline fill=\"none\" stroke=\"black\" points=\"812,-27.5 812,-63.5 \"/>\n",
       "<text text-anchor=\"middle\" x=\"853\" y=\"-41.8\" font-family=\"Times,serif\" font-size=\"14.00\">grad 0.5000</text>\n",
       "</g>\n",
       "<!-- 4664303360&#45;&gt;4664412192+ -->\n",
       "<g id=\"edge7\" class=\"edge\">\n",
       "<title>4664303360&#45;&gt;4664412192+</title>\n",
       "<path fill=\"none\" stroke=\"black\" d=\"M894.12,-58.49C916.59,-61.67 939.33,-64.89 957.33,-67.44\"/>\n",
       "<polygon fill=\"black\" stroke=\"black\" points=\"956.95,-70.93 967.34,-68.86 957.93,-63.99 956.95,-70.93\"/>\n",
       "</g>\n",
       "<!-- 4664415168 -->\n",
       "<g id=\"node14\" class=\"node\">\n",
       "<title>4664415168</title>\n",
       "<polygon fill=\"none\" stroke=\"black\" points=\"326,-110.5 326,-146.5 546,-146.5 546,-110.5 326,-110.5\"/>\n",
       "<text text-anchor=\"middle\" x=\"352.5\" y=\"-124.8\" font-family=\"Times,serif\" font-size=\"14.00\">x1*w1</text>\n",
       "<polyline fill=\"none\" stroke=\"black\" points=\"379,-110.5 379,-146.5 \"/>\n",
       "<text text-anchor=\"middle\" x=\"421.5\" y=\"-124.8\" font-family=\"Times,serif\" font-size=\"14.00\">data &#45;6.0000</text>\n",
       "<polyline fill=\"none\" stroke=\"black\" points=\"464,-110.5 464,-146.5 \"/>\n",
       "<text text-anchor=\"middle\" x=\"505\" y=\"-124.8\" font-family=\"Times,serif\" font-size=\"14.00\">grad 0.5000</text>\n",
       "</g>\n",
       "<!-- 4664415168&#45;&gt;4664411376+ -->\n",
       "<g id=\"edge13\" class=\"edge\">\n",
       "<title>4664415168&#45;&gt;4664411376+</title>\n",
       "<path fill=\"none\" stroke=\"black\" d=\"M546.27,-110.61C555.64,-109.07 564.6,-107.61 572.65,-106.29\"/>\n",
       "<polygon fill=\"black\" stroke=\"black\" points=\"573.35,-109.72 582.65,-104.65 572.22,-102.81 573.35,-109.72\"/>\n",
       "</g>\n",
       "<!-- 4664415168*&#45;&gt;4664415168 -->\n",
       "<g id=\"edge5\" class=\"edge\">\n",
       "<title>4664415168*&#45;&gt;4664415168</title>\n",
       "<path fill=\"none\" stroke=\"black\" d=\"M290.34,-128.5C297.77,-128.5 306.37,-128.5 315.6,-128.5\"/>\n",
       "<polygon fill=\"black\" stroke=\"black\" points=\"315.84,-132 325.84,-128.5 315.84,-125 315.84,-132\"/>\n",
       "</g>\n",
       "</g>\n",
       "</svg>\n"
      ],
      "text/plain": [
       "<graphviz.graphs.Digraph at 0x11603af80>"
      ]
     },
     "execution_count": 20,
     "metadata": {},
     "output_type": "execute_result"
    }
   ],
   "source": [
    "draw_dot(o)"
   ]
  },
  {
   "cell_type": "code",
   "execution_count": 21,
   "id": "5550c018-8ab3-4a77-b059-eba0b87a2ab5",
   "metadata": {},
   "outputs": [
    {
     "data": {
      "image/svg+xml": [
       "<?xml version=\"1.0\" encoding=\"UTF-8\" standalone=\"no\"?>\n",
       "<!DOCTYPE svg PUBLIC \"-//W3C//DTD SVG 1.1//EN\"\n",
       " \"http://www.w3.org/Graphics/SVG/1.1/DTD/svg11.dtd\">\n",
       "<!-- Generated by graphviz version 2.50.0 (0)\n",
       " -->\n",
       "<!-- Pages: 1 -->\n",
       "<svg width=\"2930pt\" height=\"210pt\"\n",
       " viewBox=\"0.00 0.00 2930.00 210.00\" xmlns=\"http://www.w3.org/2000/svg\" xmlns:xlink=\"http://www.w3.org/1999/xlink\">\n",
       "<g id=\"graph0\" class=\"graph\" transform=\"scale(1 1) rotate(0) translate(4 206)\">\n",
       "<polygon fill=\"white\" stroke=\"transparent\" points=\"-4,4 -4,-206 2926,-206 2926,4 -4,4\"/>\n",
       "<!-- 4664412048 -->\n",
       "<g id=\"node1\" class=\"node\">\n",
       "<title>4664412048</title>\n",
       "<polygon fill=\"none\" stroke=\"black\" points=\"709,-137.5 709,-173.5 894,-173.5 894,-137.5 709,-137.5\"/>\n",
       "<text text-anchor=\"middle\" x=\"720.5\" y=\"-151.8\" font-family=\"Times,serif\" font-size=\"14.00\">b</text>\n",
       "<polyline fill=\"none\" stroke=\"black\" points=\"732,-137.5 732,-173.5 \"/>\n",
       "<text text-anchor=\"middle\" x=\"772\" y=\"-151.8\" font-family=\"Times,serif\" font-size=\"14.00\">data 6.8814</text>\n",
       "<polyline fill=\"none\" stroke=\"black\" points=\"812,-137.5 812,-173.5 \"/>\n",
       "<text text-anchor=\"middle\" x=\"853\" y=\"-151.8\" font-family=\"Times,serif\" font-size=\"14.00\">grad 0.5000</text>\n",
       "</g>\n",
       "<!-- 4664413728+ -->\n",
       "<g id=\"node5\" class=\"node\">\n",
       "<title>4664413728+</title>\n",
       "<ellipse fill=\"none\" stroke=\"black\" cx=\"994\" cy=\"-127.5\" rx=\"27\" ry=\"18\"/>\n",
       "<text text-anchor=\"middle\" x=\"994\" y=\"-123.8\" font-family=\"Times,serif\" font-size=\"14.00\">+</text>\n",
       "</g>\n",
       "<!-- 4664412048&#45;&gt;4664413728+ -->\n",
       "<g id=\"edge26\" class=\"edge\">\n",
       "<title>4664412048&#45;&gt;4664413728+</title>\n",
       "<path fill=\"none\" stroke=\"black\" d=\"M894.12,-142.03C916.59,-138.73 939.33,-135.39 957.33,-132.74\"/>\n",
       "<polygon fill=\"black\" stroke=\"black\" points=\"957.96,-136.19 967.34,-131.27 956.94,-129.26 957.96,-136.19\"/>\n",
       "</g>\n",
       "<!-- 4664416800 -->\n",
       "<g id=\"node2\" class=\"node\">\n",
       "<title>4664416800</title>\n",
       "<polygon fill=\"none\" stroke=\"black\" points=\"1678.5,-81.5 1678.5,-117.5 1860.5,-117.5 1860.5,-81.5 1678.5,-81.5\"/>\n",
       "<text text-anchor=\"middle\" x=\"1688.5\" y=\"-95.8\" font-family=\"Times,serif\" font-size=\"14.00\"> </text>\n",
       "<polyline fill=\"none\" stroke=\"black\" points=\"1698.5,-81.5 1698.5,-117.5 \"/>\n",
       "<text text-anchor=\"middle\" x=\"1738.5\" y=\"-95.8\" font-family=\"Times,serif\" font-size=\"14.00\">data 5.8284</text>\n",
       "<polyline fill=\"none\" stroke=\"black\" points=\"1778.5,-81.5 1778.5,-117.5 \"/>\n",
       "<text text-anchor=\"middle\" x=\"1819.5\" y=\"-95.8\" font-family=\"Times,serif\" font-size=\"14.00\">grad 0.0429</text>\n",
       "</g>\n",
       "<!-- 4664417040+ -->\n",
       "<g id=\"node17\" class=\"node\">\n",
       "<title>4664417040+</title>\n",
       "<ellipse fill=\"none\" stroke=\"black\" cx=\"1926\" cy=\"-126.5\" rx=\"27\" ry=\"18\"/>\n",
       "<text text-anchor=\"middle\" x=\"1926\" y=\"-122.8\" font-family=\"Times,serif\" font-size=\"14.00\">+</text>\n",
       "</g>\n",
       "<!-- 4664416800&#45;&gt;4664417040+ -->\n",
       "<g id=\"edge19\" class=\"edge\">\n",
       "<title>4664416800&#45;&gt;4664417040+</title>\n",
       "<path fill=\"none\" stroke=\"black\" d=\"M1860.82,-115.28C1871.07,-117.08 1881.01,-118.81 1889.88,-120.36\"/>\n",
       "<polygon fill=\"black\" stroke=\"black\" points=\"1889.3,-123.81 1899.75,-122.09 1890.5,-116.92 1889.3,-123.81\"/>\n",
       "</g>\n",
       "<!-- 4664418144+ -->\n",
       "<g id=\"node23\" class=\"node\">\n",
       "<title>4664418144+</title>\n",
       "<ellipse fill=\"none\" stroke=\"black\" cx=\"1926\" cy=\"-71.5\" rx=\"27\" ry=\"18\"/>\n",
       "<text text-anchor=\"middle\" x=\"1926\" y=\"-67.8\" font-family=\"Times,serif\" font-size=\"14.00\">+</text>\n",
       "</g>\n",
       "<!-- 4664416800&#45;&gt;4664418144+ -->\n",
       "<g id=\"edge13\" class=\"edge\">\n",
       "<title>4664416800&#45;&gt;4664418144+</title>\n",
       "<path fill=\"none\" stroke=\"black\" d=\"M1860.82,-83.13C1871.07,-81.27 1881.01,-79.47 1889.88,-77.87\"/>\n",
       "<polygon fill=\"black\" stroke=\"black\" points=\"1890.54,-81.3 1899.75,-76.08 1889.29,-74.42 1890.54,-81.3\"/>\n",
       "</g>\n",
       "<!-- 4664416800exp -->\n",
       "<g id=\"node3\" class=\"node\">\n",
       "<title>4664416800exp</title>\n",
       "<ellipse fill=\"none\" stroke=\"black\" cx=\"1613\" cy=\"-99.5\" rx=\"27\" ry=\"18\"/>\n",
       "<text text-anchor=\"middle\" x=\"1613\" y=\"-95.8\" font-family=\"Times,serif\" font-size=\"14.00\">exp</text>\n",
       "</g>\n",
       "<!-- 4664416800exp&#45;&gt;4664416800 -->\n",
       "<g id=\"edge1\" class=\"edge\">\n",
       "<title>4664416800exp&#45;&gt;4664416800</title>\n",
       "<path fill=\"none\" stroke=\"black\" d=\"M1640.21,-99.5C1648.34,-99.5 1657.85,-99.5 1667.94,-99.5\"/>\n",
       "<polygon fill=\"black\" stroke=\"black\" points=\"1668.19,-103 1678.19,-99.5 1668.19,-96 1668.19,-103\"/>\n",
       "</g>\n",
       "<!-- 4664413728 -->\n",
       "<g id=\"node4\" class=\"node\">\n",
       "<title>4664413728</title>\n",
       "<polygon fill=\"none\" stroke=\"black\" points=\"1057,-109.5 1057,-145.5 1242,-145.5 1242,-109.5 1057,-109.5\"/>\n",
       "<text text-anchor=\"middle\" x=\"1068.5\" y=\"-123.8\" font-family=\"Times,serif\" font-size=\"14.00\">n</text>\n",
       "<polyline fill=\"none\" stroke=\"black\" points=\"1080,-109.5 1080,-145.5 \"/>\n",
       "<text text-anchor=\"middle\" x=\"1120\" y=\"-123.8\" font-family=\"Times,serif\" font-size=\"14.00\">data 0.8814</text>\n",
       "<polyline fill=\"none\" stroke=\"black\" points=\"1160,-109.5 1160,-145.5 \"/>\n",
       "<text text-anchor=\"middle\" x=\"1201\" y=\"-123.8\" font-family=\"Times,serif\" font-size=\"14.00\">grad 0.5000</text>\n",
       "</g>\n",
       "<!-- 4664416656* -->\n",
       "<g id=\"node25\" class=\"node\">\n",
       "<title>4664416656*</title>\n",
       "<ellipse fill=\"none\" stroke=\"black\" cx=\"1305\" cy=\"-99.5\" rx=\"27\" ry=\"18\"/>\n",
       "<text text-anchor=\"middle\" x=\"1305\" y=\"-95.8\" font-family=\"Times,serif\" font-size=\"14.00\">*</text>\n",
       "</g>\n",
       "<!-- 4664413728&#45;&gt;4664416656* -->\n",
       "<g id=\"edge28\" class=\"edge\">\n",
       "<title>4664413728&#45;&gt;4664416656*</title>\n",
       "<path fill=\"none\" stroke=\"black\" d=\"M1242.01,-110.81C1251.49,-109.08 1260.66,-107.41 1268.9,-105.9\"/>\n",
       "<polygon fill=\"black\" stroke=\"black\" points=\"1269.6,-109.33 1278.81,-104.09 1268.35,-102.45 1269.6,-109.33\"/>\n",
       "</g>\n",
       "<!-- 4664413728+&#45;&gt;4664413728 -->\n",
       "<g id=\"edge2\" class=\"edge\">\n",
       "<title>4664413728+&#45;&gt;4664413728</title>\n",
       "<path fill=\"none\" stroke=\"black\" d=\"M1021.04,-127.5C1028.58,-127.5 1037.3,-127.5 1046.57,-127.5\"/>\n",
       "<polygon fill=\"black\" stroke=\"black\" points=\"1046.81,-131 1056.81,-127.5 1046.81,-124 1046.81,-131\"/>\n",
       "</g>\n",
       "<!-- 4664309264 -->\n",
       "<g id=\"node6\" class=\"node\">\n",
       "<title>4664309264</title>\n",
       "<polygon fill=\"none\" stroke=\"black\" points=\"2,-165.5 2,-201.5 198,-201.5 198,-165.5 2,-165.5\"/>\n",
       "<text text-anchor=\"middle\" x=\"17\" y=\"-179.8\" font-family=\"Times,serif\" font-size=\"14.00\">x1</text>\n",
       "<polyline fill=\"none\" stroke=\"black\" points=\"32,-165.5 32,-201.5 \"/>\n",
       "<text text-anchor=\"middle\" x=\"72\" y=\"-179.8\" font-family=\"Times,serif\" font-size=\"14.00\">data 2.0000</text>\n",
       "<polyline fill=\"none\" stroke=\"black\" points=\"112,-165.5 112,-201.5 \"/>\n",
       "<text text-anchor=\"middle\" x=\"155\" y=\"-179.8\" font-family=\"Times,serif\" font-size=\"14.00\">grad &#45;1.5000</text>\n",
       "</g>\n",
       "<!-- 4664419680* -->\n",
       "<g id=\"node19\" class=\"node\">\n",
       "<title>4664419680*</title>\n",
       "<ellipse fill=\"none\" stroke=\"black\" cx=\"263\" cy=\"-128.5\" rx=\"27\" ry=\"18\"/>\n",
       "<text text-anchor=\"middle\" x=\"263\" y=\"-124.8\" font-family=\"Times,serif\" font-size=\"14.00\">*</text>\n",
       "</g>\n",
       "<!-- 4664309264&#45;&gt;4664419680* -->\n",
       "<g id=\"edge16\" class=\"edge\">\n",
       "<title>4664309264&#45;&gt;4664419680*</title>\n",
       "<path fill=\"none\" stroke=\"black\" d=\"M172.53,-165.44C181.84,-162.67 191.2,-159.67 200,-156.5 210.53,-152.71 221.75,-147.9 231.72,-143.33\"/>\n",
       "<polygon fill=\"black\" stroke=\"black\" points=\"233.25,-146.48 240.82,-139.07 230.28,-140.14 233.25,-146.48\"/>\n",
       "</g>\n",
       "<!-- 4664302160 -->\n",
       "<g id=\"node7\" class=\"node\">\n",
       "<title>4664302160</title>\n",
       "<polygon fill=\"none\" stroke=\"black\" points=\"0,-110.5 0,-146.5 200,-146.5 200,-110.5 0,-110.5\"/>\n",
       "<text text-anchor=\"middle\" x=\"16.5\" y=\"-124.8\" font-family=\"Times,serif\" font-size=\"14.00\">w1</text>\n",
       "<polyline fill=\"none\" stroke=\"black\" points=\"33,-110.5 33,-146.5 \"/>\n",
       "<text text-anchor=\"middle\" x=\"75.5\" y=\"-124.8\" font-family=\"Times,serif\" font-size=\"14.00\">data &#45;3.0000</text>\n",
       "<polyline fill=\"none\" stroke=\"black\" points=\"118,-110.5 118,-146.5 \"/>\n",
       "<text text-anchor=\"middle\" x=\"159\" y=\"-124.8\" font-family=\"Times,serif\" font-size=\"14.00\">grad 1.0000</text>\n",
       "</g>\n",
       "<!-- 4664302160&#45;&gt;4664419680* -->\n",
       "<g id=\"edge23\" class=\"edge\">\n",
       "<title>4664302160&#45;&gt;4664419680*</title>\n",
       "<path fill=\"none\" stroke=\"black\" d=\"M200.21,-128.5C209.2,-128.5 217.86,-128.5 225.7,-128.5\"/>\n",
       "<polygon fill=\"black\" stroke=\"black\" points=\"225.85,-132 235.85,-128.5 225.85,-125 225.85,-132\"/>\n",
       "</g>\n",
       "<!-- 4664301968 -->\n",
       "<g id=\"node8\" class=\"node\">\n",
       "<title>4664301968</title>\n",
       "<polygon fill=\"none\" stroke=\"black\" points=\"4,-55.5 4,-91.5 196,-91.5 196,-55.5 4,-55.5\"/>\n",
       "<text text-anchor=\"middle\" x=\"19\" y=\"-69.8\" font-family=\"Times,serif\" font-size=\"14.00\">x2</text>\n",
       "<polyline fill=\"none\" stroke=\"black\" points=\"34,-55.5 34,-91.5 \"/>\n",
       "<text text-anchor=\"middle\" x=\"74\" y=\"-69.8\" font-family=\"Times,serif\" font-size=\"14.00\">data 0.0000</text>\n",
       "<polyline fill=\"none\" stroke=\"black\" points=\"114,-55.5 114,-91.5 \"/>\n",
       "<text text-anchor=\"middle\" x=\"155\" y=\"-69.8\" font-family=\"Times,serif\" font-size=\"14.00\">grad 0.5000</text>\n",
       "</g>\n",
       "<!-- 4664414064* -->\n",
       "<g id=\"node21\" class=\"node\">\n",
       "<title>4664414064*</title>\n",
       "<ellipse fill=\"none\" stroke=\"black\" cx=\"263\" cy=\"-73.5\" rx=\"27\" ry=\"18\"/>\n",
       "<text text-anchor=\"middle\" x=\"263\" y=\"-69.8\" font-family=\"Times,serif\" font-size=\"14.00\">*</text>\n",
       "</g>\n",
       "<!-- 4664301968&#45;&gt;4664414064* -->\n",
       "<g id=\"edge24\" class=\"edge\">\n",
       "<title>4664301968&#45;&gt;4664414064*</title>\n",
       "<path fill=\"none\" stroke=\"black\" d=\"M196.05,-73.5C206.52,-73.5 216.65,-73.5 225.71,-73.5\"/>\n",
       "<polygon fill=\"black\" stroke=\"black\" points=\"225.79,-77 235.79,-73.5 225.79,-70 225.79,-77\"/>\n",
       "</g>\n",
       "<!-- 4664413872 -->\n",
       "<g id=\"node9\" class=\"node\">\n",
       "<title>4664413872</title>\n",
       "<polygon fill=\"none\" stroke=\"black\" points=\"672,-82.5 672,-118.5 931,-118.5 931,-82.5 672,-82.5\"/>\n",
       "<text text-anchor=\"middle\" x=\"718\" y=\"-96.8\" font-family=\"Times,serif\" font-size=\"14.00\">x1w1 + x2w2</text>\n",
       "<polyline fill=\"none\" stroke=\"black\" points=\"764,-82.5 764,-118.5 \"/>\n",
       "<text text-anchor=\"middle\" x=\"806.5\" y=\"-96.8\" font-family=\"Times,serif\" font-size=\"14.00\">data &#45;6.0000</text>\n",
       "<polyline fill=\"none\" stroke=\"black\" points=\"849,-82.5 849,-118.5 \"/>\n",
       "<text text-anchor=\"middle\" x=\"890\" y=\"-96.8\" font-family=\"Times,serif\" font-size=\"14.00\">grad 0.5000</text>\n",
       "</g>\n",
       "<!-- 4664413872&#45;&gt;4664413728+ -->\n",
       "<g id=\"edge15\" class=\"edge\">\n",
       "<title>4664413872&#45;&gt;4664413728+</title>\n",
       "<path fill=\"none\" stroke=\"black\" d=\"M929.57,-118.51C939.55,-119.92 949,-121.26 957.42,-122.46\"/>\n",
       "<polygon fill=\"black\" stroke=\"black\" points=\"957.09,-125.95 967.48,-123.88 958.07,-119.01 957.09,-125.95\"/>\n",
       "</g>\n",
       "<!-- 4664413872+ -->\n",
       "<g id=\"node10\" class=\"node\">\n",
       "<title>4664413872+</title>\n",
       "<ellipse fill=\"none\" stroke=\"black\" cx=\"609\" cy=\"-100.5\" rx=\"27\" ry=\"18\"/>\n",
       "<text text-anchor=\"middle\" x=\"609\" y=\"-96.8\" font-family=\"Times,serif\" font-size=\"14.00\">+</text>\n",
       "</g>\n",
       "<!-- 4664413872+&#45;&gt;4664413872 -->\n",
       "<g id=\"edge3\" class=\"edge\">\n",
       "<title>4664413872+&#45;&gt;4664413872</title>\n",
       "<path fill=\"none\" stroke=\"black\" d=\"M636.09,-100.5C643.58,-100.5 652.3,-100.5 661.75,-100.5\"/>\n",
       "<polygon fill=\"black\" stroke=\"black\" points=\"661.84,-104 671.84,-100.5 661.84,-97 661.84,-104\"/>\n",
       "</g>\n",
       "<!-- 4664421072 -->\n",
       "<g id=\"node11\" class=\"node\">\n",
       "<title>4664421072</title>\n",
       "<polygon fill=\"none\" stroke=\"black\" points=\"2737,-80.5 2737,-116.5 2922,-116.5 2922,-80.5 2737,-80.5\"/>\n",
       "<text text-anchor=\"middle\" x=\"2748.5\" y=\"-94.8\" font-family=\"Times,serif\" font-size=\"14.00\">o</text>\n",
       "<polyline fill=\"none\" stroke=\"black\" points=\"2760,-80.5 2760,-116.5 \"/>\n",
       "<text text-anchor=\"middle\" x=\"2800\" y=\"-94.8\" font-family=\"Times,serif\" font-size=\"14.00\">data 0.7071</text>\n",
       "<polyline fill=\"none\" stroke=\"black\" points=\"2840,-80.5 2840,-116.5 \"/>\n",
       "<text text-anchor=\"middle\" x=\"2881\" y=\"-94.8\" font-family=\"Times,serif\" font-size=\"14.00\">grad 1.0000</text>\n",
       "</g>\n",
       "<!-- 4664421072* -->\n",
       "<g id=\"node12\" class=\"node\">\n",
       "<title>4664421072*</title>\n",
       "<ellipse fill=\"none\" stroke=\"black\" cx=\"2674\" cy=\"-98.5\" rx=\"27\" ry=\"18\"/>\n",
       "<text text-anchor=\"middle\" x=\"2674\" y=\"-94.8\" font-family=\"Times,serif\" font-size=\"14.00\">*</text>\n",
       "</g>\n",
       "<!-- 4664421072*&#45;&gt;4664421072 -->\n",
       "<g id=\"edge4\" class=\"edge\">\n",
       "<title>4664421072*&#45;&gt;4664421072</title>\n",
       "<path fill=\"none\" stroke=\"black\" d=\"M2701.04,-98.5C2708.58,-98.5 2717.3,-98.5 2726.57,-98.5\"/>\n",
       "<polygon fill=\"black\" stroke=\"black\" points=\"2726.81,-102 2736.81,-98.5 2726.81,-95 2726.81,-102\"/>\n",
       "</g>\n",
       "<!-- 4664416992 -->\n",
       "<g id=\"node13\" class=\"node\">\n",
       "<title>4664416992</title>\n",
       "<polygon fill=\"none\" stroke=\"black\" points=\"1676,-136.5 1676,-172.5 1863,-172.5 1863,-136.5 1676,-136.5\"/>\n",
       "<text text-anchor=\"middle\" x=\"1686\" y=\"-150.8\" font-family=\"Times,serif\" font-size=\"14.00\"> </text>\n",
       "<polyline fill=\"none\" stroke=\"black\" points=\"1696,-136.5 1696,-172.5 \"/>\n",
       "<text text-anchor=\"middle\" x=\"1738.5\" y=\"-150.8\" font-family=\"Times,serif\" font-size=\"14.00\">data &#45;1.0000</text>\n",
       "<polyline fill=\"none\" stroke=\"black\" points=\"1781,-136.5 1781,-172.5 \"/>\n",
       "<text text-anchor=\"middle\" x=\"1822\" y=\"-150.8\" font-family=\"Times,serif\" font-size=\"14.00\">grad 0.1464</text>\n",
       "</g>\n",
       "<!-- 4664416992&#45;&gt;4664417040+ -->\n",
       "<g id=\"edge21\" class=\"edge\">\n",
       "<title>4664416992&#45;&gt;4664417040+</title>\n",
       "<path fill=\"none\" stroke=\"black\" d=\"M1863.05,-137.73C1872.54,-136.01 1881.71,-134.35 1889.95,-132.85\"/>\n",
       "<polygon fill=\"black\" stroke=\"black\" points=\"1890.64,-136.28 1899.85,-131.06 1889.39,-129.4 1890.64,-136.28\"/>\n",
       "</g>\n",
       "<!-- 4664424672 -->\n",
       "<g id=\"node14\" class=\"node\">\n",
       "<title>4664424672</title>\n",
       "<polygon fill=\"none\" stroke=\"black\" points=\"2429,-57.5 2429,-93.5 2611,-93.5 2611,-57.5 2429,-57.5\"/>\n",
       "<text text-anchor=\"middle\" x=\"2439\" y=\"-71.8\" font-family=\"Times,serif\" font-size=\"14.00\"> </text>\n",
       "<polyline fill=\"none\" stroke=\"black\" points=\"2449,-57.5 2449,-93.5 \"/>\n",
       "<text text-anchor=\"middle\" x=\"2489\" y=\"-71.8\" font-family=\"Times,serif\" font-size=\"14.00\">data 0.1464</text>\n",
       "<polyline fill=\"none\" stroke=\"black\" points=\"2529,-57.5 2529,-93.5 \"/>\n",
       "<text text-anchor=\"middle\" x=\"2570\" y=\"-71.8\" font-family=\"Times,serif\" font-size=\"14.00\">grad 4.8284</text>\n",
       "</g>\n",
       "<!-- 4664424672&#45;&gt;4664421072* -->\n",
       "<g id=\"edge25\" class=\"edge\">\n",
       "<title>4664424672&#45;&gt;4664421072*</title>\n",
       "<path fill=\"none\" stroke=\"black\" d=\"M2611.18,-89.15C2620.42,-90.54 2629.38,-91.9 2637.47,-93.12\"/>\n",
       "<polygon fill=\"black\" stroke=\"black\" points=\"2637.15,-96.61 2647.56,-94.65 2638.19,-89.69 2637.15,-96.61\"/>\n",
       "</g>\n",
       "<!-- 4664424672**&#45;1 -->\n",
       "<g id=\"node15\" class=\"node\">\n",
       "<title>4664424672**&#45;1</title>\n",
       "<ellipse fill=\"none\" stroke=\"black\" cx=\"2302\" cy=\"-71.5\" rx=\"27\" ry=\"18\"/>\n",
       "<text text-anchor=\"middle\" x=\"2302\" y=\"-67.8\" font-family=\"Times,serif\" font-size=\"14.00\">**&#45;1</text>\n",
       "</g>\n",
       "<!-- 4664424672**&#45;1&#45;&gt;4664424672 -->\n",
       "<g id=\"edge5\" class=\"edge\">\n",
       "<title>4664424672**&#45;1&#45;&gt;4664424672</title>\n",
       "<path fill=\"none\" stroke=\"black\" d=\"M2329.05,-71.98C2351.53,-72.4 2385.48,-73.03 2418.5,-73.64\"/>\n",
       "<polygon fill=\"black\" stroke=\"black\" points=\"2418.64,-77.14 2428.7,-73.83 2418.77,-70.14 2418.64,-77.14\"/>\n",
       "</g>\n",
       "<!-- 4664417040 -->\n",
       "<g id=\"node16\" class=\"node\">\n",
       "<title>4664417040</title>\n",
       "<polygon fill=\"none\" stroke=\"black\" points=\"2211,-108.5 2211,-144.5 2393,-144.5 2393,-108.5 2211,-108.5\"/>\n",
       "<text text-anchor=\"middle\" x=\"2221\" y=\"-122.8\" font-family=\"Times,serif\" font-size=\"14.00\"> </text>\n",
       "<polyline fill=\"none\" stroke=\"black\" points=\"2231,-108.5 2231,-144.5 \"/>\n",
       "<text text-anchor=\"middle\" x=\"2271\" y=\"-122.8\" font-family=\"Times,serif\" font-size=\"14.00\">data 4.8284</text>\n",
       "<polyline fill=\"none\" stroke=\"black\" points=\"2311,-108.5 2311,-144.5 \"/>\n",
       "<text text-anchor=\"middle\" x=\"2352\" y=\"-122.8\" font-family=\"Times,serif\" font-size=\"14.00\">grad 0.1464</text>\n",
       "</g>\n",
       "<!-- 4664417040&#45;&gt;4664421072* -->\n",
       "<g id=\"edge12\" class=\"edge\">\n",
       "<title>4664417040&#45;&gt;4664421072*</title>\n",
       "<path fill=\"none\" stroke=\"black\" d=\"M2393.31,-119.9C2454.7,-115.37 2537.76,-109.19 2611,-103.5 2619.42,-102.85 2628.48,-102.13 2637.01,-101.44\"/>\n",
       "<polygon fill=\"black\" stroke=\"black\" points=\"2637.37,-104.92 2647.06,-100.63 2636.81,-97.94 2637.37,-104.92\"/>\n",
       "</g>\n",
       "<!-- 4664417040+&#45;&gt;4664417040 -->\n",
       "<g id=\"edge6\" class=\"edge\">\n",
       "<title>4664417040+&#45;&gt;4664417040</title>\n",
       "<path fill=\"none\" stroke=\"black\" d=\"M1953,-126.5C2003.46,-126.5 2117.06,-126.5 2200.81,-126.5\"/>\n",
       "<polygon fill=\"black\" stroke=\"black\" points=\"2200.87,-130 2210.87,-126.5 2200.87,-123 2200.87,-130\"/>\n",
       "</g>\n",
       "<!-- 4664419680 -->\n",
       "<g id=\"node18\" class=\"node\">\n",
       "<title>4664419680</title>\n",
       "<polygon fill=\"none\" stroke=\"black\" points=\"326,-110.5 326,-146.5 546,-146.5 546,-110.5 326,-110.5\"/>\n",
       "<text text-anchor=\"middle\" x=\"352.5\" y=\"-124.8\" font-family=\"Times,serif\" font-size=\"14.00\">x1*w1</text>\n",
       "<polyline fill=\"none\" stroke=\"black\" points=\"379,-110.5 379,-146.5 \"/>\n",
       "<text text-anchor=\"middle\" x=\"421.5\" y=\"-124.8\" font-family=\"Times,serif\" font-size=\"14.00\">data &#45;6.0000</text>\n",
       "<polyline fill=\"none\" stroke=\"black\" points=\"464,-110.5 464,-146.5 \"/>\n",
       "<text text-anchor=\"middle\" x=\"505\" y=\"-124.8\" font-family=\"Times,serif\" font-size=\"14.00\">grad 0.5000</text>\n",
       "</g>\n",
       "<!-- 4664419680&#45;&gt;4664413872+ -->\n",
       "<g id=\"edge20\" class=\"edge\">\n",
       "<title>4664419680&#45;&gt;4664413872+</title>\n",
       "<path fill=\"none\" stroke=\"black\" d=\"M546.27,-110.61C555.64,-109.07 564.6,-107.61 572.65,-106.29\"/>\n",
       "<polygon fill=\"black\" stroke=\"black\" points=\"573.35,-109.72 582.65,-104.65 572.22,-102.81 573.35,-109.72\"/>\n",
       "</g>\n",
       "<!-- 4664419680*&#45;&gt;4664419680 -->\n",
       "<g id=\"edge7\" class=\"edge\">\n",
       "<title>4664419680*&#45;&gt;4664419680</title>\n",
       "<path fill=\"none\" stroke=\"black\" d=\"M290.34,-128.5C297.77,-128.5 306.37,-128.5 315.6,-128.5\"/>\n",
       "<polygon fill=\"black\" stroke=\"black\" points=\"315.84,-132 325.84,-128.5 315.84,-125 315.84,-132\"/>\n",
       "</g>\n",
       "<!-- 4664414064 -->\n",
       "<g id=\"node20\" class=\"node\">\n",
       "<title>4664414064</title>\n",
       "<polygon fill=\"none\" stroke=\"black\" points=\"328.5,-55.5 328.5,-91.5 543.5,-91.5 543.5,-55.5 328.5,-55.5\"/>\n",
       "<text text-anchor=\"middle\" x=\"355\" y=\"-69.8\" font-family=\"Times,serif\" font-size=\"14.00\">x2*w2</text>\n",
       "<polyline fill=\"none\" stroke=\"black\" points=\"381.5,-55.5 381.5,-91.5 \"/>\n",
       "<text text-anchor=\"middle\" x=\"421.5\" y=\"-69.8\" font-family=\"Times,serif\" font-size=\"14.00\">data 0.0000</text>\n",
       "<polyline fill=\"none\" stroke=\"black\" points=\"461.5,-55.5 461.5,-91.5 \"/>\n",
       "<text text-anchor=\"middle\" x=\"502.5\" y=\"-69.8\" font-family=\"Times,serif\" font-size=\"14.00\">grad 0.5000</text>\n",
       "</g>\n",
       "<!-- 4664414064&#45;&gt;4664413872+ -->\n",
       "<g id=\"edge27\" class=\"edge\">\n",
       "<title>4664414064&#45;&gt;4664413872+</title>\n",
       "<path fill=\"none\" stroke=\"black\" d=\"M543.84,-90.37C554.01,-91.98 563.76,-93.51 572.44,-94.89\"/>\n",
       "<polygon fill=\"black\" stroke=\"black\" points=\"572.05,-98.37 582.47,-96.47 573.14,-91.45 572.05,-98.37\"/>\n",
       "</g>\n",
       "<!-- 4664414064*&#45;&gt;4664414064 -->\n",
       "<g id=\"edge8\" class=\"edge\">\n",
       "<title>4664414064*&#45;&gt;4664414064</title>\n",
       "<path fill=\"none\" stroke=\"black\" d=\"M290.34,-73.5C298.51,-73.5 308.08,-73.5 318.36,-73.5\"/>\n",
       "<polygon fill=\"black\" stroke=\"black\" points=\"318.39,-77 328.39,-73.5 318.39,-70 318.39,-77\"/>\n",
       "</g>\n",
       "<!-- 4664418144 -->\n",
       "<g id=\"node22\" class=\"node\">\n",
       "<title>4664418144</title>\n",
       "<polygon fill=\"none\" stroke=\"black\" points=\"1989,-53.5 1989,-89.5 2175,-89.5 2175,-53.5 1989,-53.5\"/>\n",
       "<text text-anchor=\"middle\" x=\"1999\" y=\"-67.8\" font-family=\"Times,serif\" font-size=\"14.00\"> </text>\n",
       "<polyline fill=\"none\" stroke=\"black\" points=\"2009,-53.5 2009,-89.5 \"/>\n",
       "<text text-anchor=\"middle\" x=\"2049\" y=\"-67.8\" font-family=\"Times,serif\" font-size=\"14.00\">data 6.8284</text>\n",
       "<polyline fill=\"none\" stroke=\"black\" points=\"2089,-53.5 2089,-89.5 \"/>\n",
       "<text text-anchor=\"middle\" x=\"2132\" y=\"-67.8\" font-family=\"Times,serif\" font-size=\"14.00\">grad &#45;0.1036</text>\n",
       "</g>\n",
       "<!-- 4664418144&#45;&gt;4664424672**&#45;1 -->\n",
       "<g id=\"edge17\" class=\"edge\">\n",
       "<title>4664418144&#45;&gt;4664424672**&#45;1</title>\n",
       "<path fill=\"none\" stroke=\"black\" d=\"M2175.14,-71.5C2206.72,-71.5 2240.24,-71.5 2264.74,-71.5\"/>\n",
       "<polygon fill=\"black\" stroke=\"black\" points=\"2264.98,-75 2274.98,-71.5 2264.98,-68 2264.98,-75\"/>\n",
       "</g>\n",
       "<!-- 4664418144+&#45;&gt;4664418144 -->\n",
       "<g id=\"edge9\" class=\"edge\">\n",
       "<title>4664418144+&#45;&gt;4664418144</title>\n",
       "<path fill=\"none\" stroke=\"black\" d=\"M1953.12,-71.5C1960.62,-71.5 1969.29,-71.5 1978.5,-71.5\"/>\n",
       "<polygon fill=\"black\" stroke=\"black\" points=\"1978.69,-75 1988.69,-71.5 1978.69,-68 1978.69,-75\"/>\n",
       "</g>\n",
       "<!-- 4664416656 -->\n",
       "<g id=\"node24\" class=\"node\">\n",
       "<title>4664416656</title>\n",
       "<polygon fill=\"none\" stroke=\"black\" points=\"1368,-81.5 1368,-117.5 1550,-117.5 1550,-81.5 1368,-81.5\"/>\n",
       "<text text-anchor=\"middle\" x=\"1378\" y=\"-95.8\" font-family=\"Times,serif\" font-size=\"14.00\"> </text>\n",
       "<polyline fill=\"none\" stroke=\"black\" points=\"1388,-81.5 1388,-117.5 \"/>\n",
       "<text text-anchor=\"middle\" x=\"1428\" y=\"-95.8\" font-family=\"Times,serif\" font-size=\"14.00\">data 1.7627</text>\n",
       "<polyline fill=\"none\" stroke=\"black\" points=\"1468,-81.5 1468,-117.5 \"/>\n",
       "<text text-anchor=\"middle\" x=\"1509\" y=\"-95.8\" font-family=\"Times,serif\" font-size=\"14.00\">grad 0.2500</text>\n",
       "</g>\n",
       "<!-- 4664416656&#45;&gt;4664416800exp -->\n",
       "<g id=\"edge18\" class=\"edge\">\n",
       "<title>4664416656&#45;&gt;4664416800exp</title>\n",
       "<path fill=\"none\" stroke=\"black\" d=\"M1550.18,-99.5C1559.14,-99.5 1567.83,-99.5 1575.73,-99.5\"/>\n",
       "<polygon fill=\"black\" stroke=\"black\" points=\"1575.96,-103 1585.96,-99.5 1575.96,-96 1575.96,-103\"/>\n",
       "</g>\n",
       "<!-- 4664416656*&#45;&gt;4664416656 -->\n",
       "<g id=\"edge10\" class=\"edge\">\n",
       "<title>4664416656*&#45;&gt;4664416656</title>\n",
       "<path fill=\"none\" stroke=\"black\" d=\"M1332.13,-99.5C1339.67,-99.5 1348.39,-99.5 1357.64,-99.5\"/>\n",
       "<polygon fill=\"black\" stroke=\"black\" points=\"1357.87,-103 1367.87,-99.5 1357.87,-96 1357.87,-103\"/>\n",
       "</g>\n",
       "<!-- 4664412096 -->\n",
       "<g id=\"node26\" class=\"node\">\n",
       "<title>4664412096</title>\n",
       "<polygon fill=\"none\" stroke=\"black\" points=\"2.5,-0.5 2.5,-36.5 197.5,-36.5 197.5,-0.5 2.5,-0.5\"/>\n",
       "<text text-anchor=\"middle\" x=\"19\" y=\"-14.8\" font-family=\"Times,serif\" font-size=\"14.00\">w2</text>\n",
       "<polyline fill=\"none\" stroke=\"black\" points=\"35.5,-0.5 35.5,-36.5 \"/>\n",
       "<text text-anchor=\"middle\" x=\"75.5\" y=\"-14.8\" font-family=\"Times,serif\" font-size=\"14.00\">data 1.0000</text>\n",
       "<polyline fill=\"none\" stroke=\"black\" points=\"115.5,-0.5 115.5,-36.5 \"/>\n",
       "<text text-anchor=\"middle\" x=\"156.5\" y=\"-14.8\" font-family=\"Times,serif\" font-size=\"14.00\">grad 0.0000</text>\n",
       "</g>\n",
       "<!-- 4664412096&#45;&gt;4664414064* -->\n",
       "<g id=\"edge22\" class=\"edge\">\n",
       "<title>4664412096&#45;&gt;4664414064*</title>\n",
       "<path fill=\"none\" stroke=\"black\" d=\"M172.53,-36.56C181.84,-39.33 191.2,-42.33 200,-45.5 210.53,-49.29 221.75,-54.1 231.72,-58.67\"/>\n",
       "<polygon fill=\"black\" stroke=\"black\" points=\"230.28,-61.86 240.82,-62.93 233.25,-55.52 230.28,-61.86\"/>\n",
       "</g>\n",
       "<!-- 4664417232 -->\n",
       "<g id=\"node27\" class=\"node\">\n",
       "<title>4664417232</title>\n",
       "<polygon fill=\"none\" stroke=\"black\" points=\"1676.5,-26.5 1676.5,-62.5 1862.5,-62.5 1862.5,-26.5 1676.5,-26.5\"/>\n",
       "<text text-anchor=\"middle\" x=\"1686.5\" y=\"-40.8\" font-family=\"Times,serif\" font-size=\"14.00\"> </text>\n",
       "<polyline fill=\"none\" stroke=\"black\" points=\"1696.5,-26.5 1696.5,-62.5 \"/>\n",
       "<text text-anchor=\"middle\" x=\"1736.5\" y=\"-40.8\" font-family=\"Times,serif\" font-size=\"14.00\">data 1.0000</text>\n",
       "<polyline fill=\"none\" stroke=\"black\" points=\"1776.5,-26.5 1776.5,-62.5 \"/>\n",
       "<text text-anchor=\"middle\" x=\"1819.5\" y=\"-40.8\" font-family=\"Times,serif\" font-size=\"14.00\">grad &#45;0.1036</text>\n",
       "</g>\n",
       "<!-- 4664417232&#45;&gt;4664418144+ -->\n",
       "<g id=\"edge14\" class=\"edge\">\n",
       "<title>4664417232&#45;&gt;4664418144+</title>\n",
       "<path fill=\"none\" stroke=\"black\" d=\"M1862.6,-60.6C1872.15,-62.26 1881.37,-63.88 1889.68,-65.33\"/>\n",
       "<polygon fill=\"black\" stroke=\"black\" points=\"1889.2,-68.8 1899.65,-67.07 1890.4,-61.9 1889.2,-68.8\"/>\n",
       "</g>\n",
       "<!-- 4664419776 -->\n",
       "<g id=\"node28\" class=\"node\">\n",
       "<title>4664419776</title>\n",
       "<polygon fill=\"none\" stroke=\"black\" points=\"1058.5,-54.5 1058.5,-90.5 1240.5,-90.5 1240.5,-54.5 1058.5,-54.5\"/>\n",
       "<text text-anchor=\"middle\" x=\"1068.5\" y=\"-68.8\" font-family=\"Times,serif\" font-size=\"14.00\"> </text>\n",
       "<polyline fill=\"none\" stroke=\"black\" points=\"1078.5,-54.5 1078.5,-90.5 \"/>\n",
       "<text text-anchor=\"middle\" x=\"1118.5\" y=\"-68.8\" font-family=\"Times,serif\" font-size=\"14.00\">data 2.0000</text>\n",
       "<polyline fill=\"none\" stroke=\"black\" points=\"1158.5,-54.5 1158.5,-90.5 \"/>\n",
       "<text text-anchor=\"middle\" x=\"1199.5\" y=\"-68.8\" font-family=\"Times,serif\" font-size=\"14.00\">grad 0.2203</text>\n",
       "</g>\n",
       "<!-- 4664419776&#45;&gt;4664416656* -->\n",
       "<g id=\"edge11\" class=\"edge\">\n",
       "<title>4664419776&#45;&gt;4664416656*</title>\n",
       "<path fill=\"none\" stroke=\"black\" d=\"M1240.68,-88.36C1250.61,-90.11 1260.23,-91.8 1268.84,-93.32\"/>\n",
       "<polygon fill=\"black\" stroke=\"black\" points=\"1268.36,-96.78 1278.81,-95.07 1269.57,-89.89 1268.36,-96.78\"/>\n",
       "</g>\n",
       "</g>\n",
       "</svg>\n"
      ],
      "text/plain": [
       "<graphviz.graphs.Digraph at 0x116055a50>"
      ]
     },
     "execution_count": 21,
     "metadata": {},
     "output_type": "execute_result"
    }
   ],
   "source": [
    "#inputs x1,x2\n",
    "x1 = Value(2.0, label = \"x1\")\n",
    "x2 = Value(0.0, label = \"x2\")\n",
    "#weights w1,w2\n",
    "w1 = Value(-3.0, label = \"w1\")\n",
    "w2 = Value(1.0, label = \"w2\")\n",
    "#bias of the neuron\n",
    "b = Value (6.88137358, label = 'b') #bias was changed,numbers will come better with this value acc to Andrej\n",
    "#x1w1 + x2w2 + b\n",
    "x1w1 = x1 * w1; x1w1.label = 'x1*w1'\n",
    "x2w2 = x2 * w2; x2w2.label = 'x2*w2'\n",
    "x1w1x2w2 = x1w1 + x2w2; x1w1x2w2.label = 'x1w1 + x2w2'\n",
    "n = x1w1x2w2 + b; n.label = 'n'\n",
    "\n",
    "#activation fun\n",
    "e = (2*n).exp()\n",
    "o = (e-1)/(e+1)\n",
    "o.label = 'o' #tanh is broken into another formula)\n",
    "\n",
    "o.backward()\n",
    "draw_dot(o)"
   ]
  },
  {
   "cell_type": "code",
   "execution_count": 22,
   "id": "5eb754b9-ac9c-436a-8b60-2fcd5a90bee9",
   "metadata": {},
   "outputs": [],
   "source": [
    "#backpropagation"
   ]
  },
  {
   "cell_type": "code",
   "execution_count": 23,
   "id": "7a8c8e44-d825-4e68-aae8-6a764cf45722",
   "metadata": {},
   "outputs": [],
   "source": [
    "#automatic bypass(converted to backward fun in Value)\n",
    "o.backward()"
   ]
  },
  {
   "cell_type": "code",
   "execution_count": null,
   "id": "d4e8014e-ec14-4d97-a8e2-ffe991214402",
   "metadata": {},
   "outputs": [],
   "source": []
  },
  {
   "cell_type": "code",
   "execution_count": 24,
   "id": "2d9c1541-887e-4534-b1e6-895a5e6d5ba0",
   "metadata": {},
   "outputs": [],
   "source": [
    "o.grad = 1.0 #initialised for base case, otherwise it is 0.0\n",
    "o._backward()"
   ]
  },
  {
   "cell_type": "code",
   "execution_count": 25,
   "id": "0dd3fb96-3288-42b6-ba64-0eebcb54d405",
   "metadata": {},
   "outputs": [],
   "source": [
    "n._backward()"
   ]
  },
  {
   "cell_type": "code",
   "execution_count": 26,
   "id": "662ced07-1222-4b88-b4e3-fbc757b84de6",
   "metadata": {},
   "outputs": [],
   "source": [
    "b._backward()"
   ]
  },
  {
   "cell_type": "code",
   "execution_count": 27,
   "id": "c9873076-a903-40c4-9b28-c59a1894e259",
   "metadata": {},
   "outputs": [],
   "source": [
    "x1w1x2w2._backward()"
   ]
  },
  {
   "cell_type": "code",
   "execution_count": 28,
   "id": "2ff5093f-bf24-465f-bc15-c6142ae1b551",
   "metadata": {},
   "outputs": [],
   "source": [
    "x2w2._backward()\n",
    "x1w1._backward()"
   ]
  },
  {
   "cell_type": "code",
   "execution_count": 29,
   "id": "1ffb090f-f450-48d9-8488-0d1a1f99ee81",
   "metadata": {},
   "outputs": [],
   "source": [
    "#below 5 cells were executed to backpass manually, above ones are to show the function backward,above that automatic backpass"
   ]
  },
  {
   "cell_type": "code",
   "execution_count": 30,
   "id": "43a24c63-33f0-44bd-8946-62d0593b35bf",
   "metadata": {},
   "outputs": [],
   "source": [
    "x1.grad = w1.data * x1w1.grad\n",
    "w1.grad = x1.data * x1w1.grad"
   ]
  },
  {
   "cell_type": "code",
   "execution_count": 31,
   "id": "6441427f-fccd-4b23-bf9a-d4208a2af3bd",
   "metadata": {},
   "outputs": [],
   "source": [
    "x2.grad = w2.data * x2w2.grad\n",
    "w2.grad = x2.data * x2w2.grad"
   ]
  },
  {
   "cell_type": "code",
   "execution_count": 32,
   "id": "bc1e24f5-9258-4fc6-a4ea-9e278880498d",
   "metadata": {},
   "outputs": [],
   "source": [
    "x1w1x2w2.grad = 0.5\n",
    "b.grad = 0.5"
   ]
  },
  {
   "cell_type": "code",
   "execution_count": 33,
   "id": "5a3c8f22-161c-46f3-86aa-9f89eed4acd7",
   "metadata": {},
   "outputs": [],
   "source": [
    "x2w2.grad = 0.5\n",
    "x1w1.grad = 0.5"
   ]
  },
  {
   "cell_type": "code",
   "execution_count": 34,
   "id": "888d1f56-4872-4971-bc5b-7d5c2d72d262",
   "metadata": {},
   "outputs": [],
   "source": [
    "n.grad = 1 - o.data ** 2"
   ]
  },
  {
   "cell_type": "code",
   "execution_count": 35,
   "id": "664b8f20-51df-4333-a823-9ccf4d8d560b",
   "metadata": {},
   "outputs": [],
   "source": [
    "o.grad = 1.0 #do/do"
   ]
  },
  {
   "cell_type": "code",
   "execution_count": 36,
   "id": "6f2dbf40-dee8-4b82-80d0-a61cb502de98",
   "metadata": {},
   "outputs": [],
   "source": [
    "#o = tanh(n),what is do/dn (1-tanh(n)^2)= 1 - o**2, rerun draw_dot"
   ]
  },
  {
   "cell_type": "markdown",
   "id": "6e92ef22-2503-4fba-89c5-5f993645d3eb",
   "metadata": {},
   "source": [
    "#bug reproduction"
   ]
  },
  {
   "cell_type": "code",
   "execution_count": 37,
   "id": "12bb8e98-c3cc-4627-9690-e937291ae762",
   "metadata": {},
   "outputs": [
    {
     "data": {
      "image/svg+xml": [
       "<?xml version=\"1.0\" encoding=\"UTF-8\" standalone=\"no\"?>\n",
       "<!DOCTYPE svg PUBLIC \"-//W3C//DTD SVG 1.1//EN\"\n",
       " \"http://www.w3.org/Graphics/SVG/1.1/DTD/svg11.dtd\">\n",
       "<!-- Generated by graphviz version 2.50.0 (0)\n",
       " -->\n",
       "<!-- Pages: 1 -->\n",
       "<svg width=\"504pt\" height=\"45pt\"\n",
       " viewBox=\"0.00 0.00 504.00 45.00\" xmlns=\"http://www.w3.org/2000/svg\" xmlns:xlink=\"http://www.w3.org/1999/xlink\">\n",
       "<g id=\"graph0\" class=\"graph\" transform=\"scale(1 1) rotate(0) translate(4 41)\">\n",
       "<polygon fill=\"white\" stroke=\"transparent\" points=\"-4,4 -4,-41 500,-41 500,4 -4,4\"/>\n",
       "<!-- 4664424096 -->\n",
       "<g id=\"node1\" class=\"node\">\n",
       "<title>4664424096</title>\n",
       "<polygon fill=\"none\" stroke=\"black\" points=\"0,-0.5 0,-36.5 185,-36.5 185,-0.5 0,-0.5\"/>\n",
       "<text text-anchor=\"middle\" x=\"11.5\" y=\"-14.8\" font-family=\"Times,serif\" font-size=\"14.00\">a</text>\n",
       "<polyline fill=\"none\" stroke=\"black\" points=\"23,-0.5 23,-36.5 \"/>\n",
       "<text text-anchor=\"middle\" x=\"63\" y=\"-14.8\" font-family=\"Times,serif\" font-size=\"14.00\">data 3.0000</text>\n",
       "<polyline fill=\"none\" stroke=\"black\" points=\"103,-0.5 103,-36.5 \"/>\n",
       "<text text-anchor=\"middle\" x=\"144\" y=\"-14.8\" font-family=\"Times,serif\" font-size=\"14.00\">grad 2.0000</text>\n",
       "</g>\n",
       "<!-- 4664421744+ -->\n",
       "<g id=\"node3\" class=\"node\">\n",
       "<title>4664421744+</title>\n",
       "<ellipse fill=\"none\" stroke=\"black\" cx=\"248\" cy=\"-18.5\" rx=\"27\" ry=\"18\"/>\n",
       "<text text-anchor=\"middle\" x=\"248\" y=\"-14.8\" font-family=\"Times,serif\" font-size=\"14.00\">+</text>\n",
       "</g>\n",
       "<!-- 4664424096&#45;&gt;4664421744+ -->\n",
       "<g id=\"edge2\" class=\"edge\">\n",
       "<title>4664424096&#45;&gt;4664421744+</title>\n",
       "<path fill=\"none\" stroke=\"black\" d=\"M185.01,-18.5C194.01,-18.5 202.74,-18.5 210.66,-18.5\"/>\n",
       "<polygon fill=\"black\" stroke=\"black\" points=\"210.91,-22 220.91,-18.5 210.91,-15 210.91,-22\"/>\n",
       "</g>\n",
       "<!-- 4664421744 -->\n",
       "<g id=\"node2\" class=\"node\">\n",
       "<title>4664421744</title>\n",
       "<polygon fill=\"none\" stroke=\"black\" points=\"311,-0.5 311,-36.5 496,-36.5 496,-0.5 311,-0.5\"/>\n",
       "<text text-anchor=\"middle\" x=\"322.5\" y=\"-14.8\" font-family=\"Times,serif\" font-size=\"14.00\">b</text>\n",
       "<polyline fill=\"none\" stroke=\"black\" points=\"334,-0.5 334,-36.5 \"/>\n",
       "<text text-anchor=\"middle\" x=\"374\" y=\"-14.8\" font-family=\"Times,serif\" font-size=\"14.00\">data 6.0000</text>\n",
       "<polyline fill=\"none\" stroke=\"black\" points=\"414,-0.5 414,-36.5 \"/>\n",
       "<text text-anchor=\"middle\" x=\"455\" y=\"-14.8\" font-family=\"Times,serif\" font-size=\"14.00\">grad 1.0000</text>\n",
       "</g>\n",
       "<!-- 4664421744+&#45;&gt;4664421744 -->\n",
       "<g id=\"edge1\" class=\"edge\">\n",
       "<title>4664421744+&#45;&gt;4664421744</title>\n",
       "<path fill=\"none\" stroke=\"black\" d=\"M275.04,-18.5C282.58,-18.5 291.3,-18.5 300.57,-18.5\"/>\n",
       "<polygon fill=\"black\" stroke=\"black\" points=\"300.81,-22 310.81,-18.5 300.81,-15 300.81,-22\"/>\n",
       "</g>\n",
       "</g>\n",
       "</svg>\n"
      ],
      "text/plain": [
       "<graphviz.graphs.Digraph at 0x116056e90>"
      ]
     },
     "execution_count": 37,
     "metadata": {},
     "output_type": "execute_result"
    }
   ],
   "source": [
    "a = Value(3.0, label = 'a')\n",
    "b = a + a; b.label = 'b'\n",
    "b.backward()\n",
    "draw_dot(b)\n",
    "#there should be two a's, also gradient of a should be 2\n",
    "#b is out of __add__, in this case, self and other are same, thus making it point to the same object,\n",
    "##it is overriding values in def _backward"
   ]
  },
  {
   "cell_type": "code",
   "execution_count": 38,
   "id": "06509540-0792-4cb3-9996-06fa88021159",
   "metadata": {},
   "outputs": [
    {
     "data": {
      "image/svg+xml": [
       "<?xml version=\"1.0\" encoding=\"UTF-8\" standalone=\"no\"?>\n",
       "<!DOCTYPE svg PUBLIC \"-//W3C//DTD SVG 1.1//EN\"\n",
       " \"http://www.w3.org/Graphics/SVG/1.1/DTD/svg11.dtd\">\n",
       "<!-- Generated by graphviz version 2.50.0 (0)\n",
       " -->\n",
       "<!-- Pages: 1 -->\n",
       "<svg width=\"832pt\" height=\"100pt\"\n",
       " viewBox=\"0.00 0.00 832.00 100.00\" xmlns=\"http://www.w3.org/2000/svg\" xmlns:xlink=\"http://www.w3.org/1999/xlink\">\n",
       "<g id=\"graph0\" class=\"graph\" transform=\"scale(1 1) rotate(0) translate(4 96)\">\n",
       "<polygon fill=\"white\" stroke=\"transparent\" points=\"-4,4 -4,-96 828,-96 828,4 -4,4\"/>\n",
       "<!-- 4664412240 -->\n",
       "<g id=\"node1\" class=\"node\">\n",
       "<title>4664412240</title>\n",
       "<polygon fill=\"none\" stroke=\"black\" points=\"0,-55.5 0,-91.5 194,-91.5 194,-55.5 0,-55.5\"/>\n",
       "<text text-anchor=\"middle\" x=\"11.5\" y=\"-69.8\" font-family=\"Times,serif\" font-size=\"14.00\">a</text>\n",
       "<polyline fill=\"none\" stroke=\"black\" points=\"23,-55.5 23,-91.5 \"/>\n",
       "<text text-anchor=\"middle\" x=\"65.5\" y=\"-69.8\" font-family=\"Times,serif\" font-size=\"14.00\">data &#45;2.0000</text>\n",
       "<polyline fill=\"none\" stroke=\"black\" points=\"108,-55.5 108,-91.5 \"/>\n",
       "<text text-anchor=\"middle\" x=\"151\" y=\"-69.8\" font-family=\"Times,serif\" font-size=\"14.00\">grad &#45;3.0000</text>\n",
       "</g>\n",
       "<!-- 4664415456* -->\n",
       "<g id=\"node4\" class=\"node\">\n",
       "<title>4664415456*</title>\n",
       "<ellipse fill=\"none\" stroke=\"black\" cx=\"257\" cy=\"-73.5\" rx=\"27\" ry=\"18\"/>\n",
       "<text text-anchor=\"middle\" x=\"257\" y=\"-69.8\" font-family=\"Times,serif\" font-size=\"14.00\">*</text>\n",
       "</g>\n",
       "<!-- 4664412240&#45;&gt;4664415456* -->\n",
       "<g id=\"edge6\" class=\"edge\">\n",
       "<title>4664412240&#45;&gt;4664415456*</title>\n",
       "<path fill=\"none\" stroke=\"black\" d=\"M194.01,-73.5C202.98,-73.5 211.65,-73.5 219.51,-73.5\"/>\n",
       "<polygon fill=\"black\" stroke=\"black\" points=\"219.7,-77 229.7,-73.5 219.7,-70 219.7,-77\"/>\n",
       "</g>\n",
       "<!-- 4664419056+ -->\n",
       "<g id=\"node6\" class=\"node\">\n",
       "<title>4664419056+</title>\n",
       "<ellipse fill=\"none\" stroke=\"black\" cx=\"257\" cy=\"-18.5\" rx=\"27\" ry=\"18\"/>\n",
       "<text text-anchor=\"middle\" x=\"257\" y=\"-14.8\" font-family=\"Times,serif\" font-size=\"14.00\">+</text>\n",
       "</g>\n",
       "<!-- 4664412240&#45;&gt;4664419056+ -->\n",
       "<g id=\"edge7\" class=\"edge\">\n",
       "<title>4664412240&#45;&gt;4664419056+</title>\n",
       "<path fill=\"none\" stroke=\"black\" d=\"M166.84,-55.49C176.04,-52.69 185.3,-49.67 194,-46.5 204.51,-42.67 215.73,-37.84 225.7,-33.28\"/>\n",
       "<polygon fill=\"black\" stroke=\"black\" points=\"227.23,-36.43 234.81,-29.02 224.27,-30.09 227.23,-36.43\"/>\n",
       "</g>\n",
       "<!-- 4664420496 -->\n",
       "<g id=\"node2\" class=\"node\">\n",
       "<title>4664420496</title>\n",
       "<polygon fill=\"none\" stroke=\"black\" points=\"2.5,-0.5 2.5,-36.5 191.5,-36.5 191.5,-0.5 2.5,-0.5\"/>\n",
       "<text text-anchor=\"middle\" x=\"14\" y=\"-14.8\" font-family=\"Times,serif\" font-size=\"14.00\">b</text>\n",
       "<polyline fill=\"none\" stroke=\"black\" points=\"25.5,-0.5 25.5,-36.5 \"/>\n",
       "<text text-anchor=\"middle\" x=\"65.5\" y=\"-14.8\" font-family=\"Times,serif\" font-size=\"14.00\">data 3.0000</text>\n",
       "<polyline fill=\"none\" stroke=\"black\" points=\"105.5,-0.5 105.5,-36.5 \"/>\n",
       "<text text-anchor=\"middle\" x=\"148.5\" y=\"-14.8\" font-family=\"Times,serif\" font-size=\"14.00\">grad &#45;8.0000</text>\n",
       "</g>\n",
       "<!-- 4664420496&#45;&gt;4664415456* -->\n",
       "<g id=\"edge4\" class=\"edge\">\n",
       "<title>4664420496&#45;&gt;4664415456*</title>\n",
       "<path fill=\"none\" stroke=\"black\" d=\"M163.94,-36.53C174.08,-39.65 184.37,-43.01 194,-46.5 204.27,-50.22 215.26,-54.8 225.09,-59.12\"/>\n",
       "<polygon fill=\"black\" stroke=\"black\" points=\"223.91,-62.43 234.47,-63.32 226.77,-56.04 223.91,-62.43\"/>\n",
       "</g>\n",
       "<!-- 4664420496&#45;&gt;4664419056+ -->\n",
       "<g id=\"edge5\" class=\"edge\">\n",
       "<title>4664420496&#45;&gt;4664419056+</title>\n",
       "<path fill=\"none\" stroke=\"black\" d=\"M191.74,-18.5C201.55,-18.5 211.04,-18.5 219.59,-18.5\"/>\n",
       "<polygon fill=\"black\" stroke=\"black\" points=\"219.87,-22 229.87,-18.5 219.87,-15 219.87,-22\"/>\n",
       "</g>\n",
       "<!-- 4664415456 -->\n",
       "<g id=\"node3\" class=\"node\">\n",
       "<title>4664415456</title>\n",
       "<polygon fill=\"none\" stroke=\"black\" points=\"320,-55.5 320,-91.5 510,-91.5 510,-55.5 320,-55.5\"/>\n",
       "<text text-anchor=\"middle\" x=\"331.5\" y=\"-69.8\" font-family=\"Times,serif\" font-size=\"14.00\">d</text>\n",
       "<polyline fill=\"none\" stroke=\"black\" points=\"343,-55.5 343,-91.5 \"/>\n",
       "<text text-anchor=\"middle\" x=\"385.5\" y=\"-69.8\" font-family=\"Times,serif\" font-size=\"14.00\">data &#45;6.0000</text>\n",
       "<polyline fill=\"none\" stroke=\"black\" points=\"428,-55.5 428,-91.5 \"/>\n",
       "<text text-anchor=\"middle\" x=\"469\" y=\"-69.8\" font-family=\"Times,serif\" font-size=\"14.00\">grad 1.0000</text>\n",
       "</g>\n",
       "<!-- 4664418672* -->\n",
       "<g id=\"node8\" class=\"node\">\n",
       "<title>4664418672*</title>\n",
       "<ellipse fill=\"none\" stroke=\"black\" cx=\"573\" cy=\"-45.5\" rx=\"27\" ry=\"18\"/>\n",
       "<text text-anchor=\"middle\" x=\"573\" y=\"-41.8\" font-family=\"Times,serif\" font-size=\"14.00\">*</text>\n",
       "</g>\n",
       "<!-- 4664415456&#45;&gt;4664418672* -->\n",
       "<g id=\"edge9\" class=\"edge\">\n",
       "<title>4664415456&#45;&gt;4664418672*</title>\n",
       "<path fill=\"none\" stroke=\"black\" d=\"M510.34,-56.57C519.62,-54.9 528.58,-53.29 536.66,-51.84\"/>\n",
       "<polygon fill=\"black\" stroke=\"black\" points=\"537.49,-55.25 546.72,-50.04 536.26,-48.36 537.49,-55.25\"/>\n",
       "</g>\n",
       "<!-- 4664415456*&#45;&gt;4664415456 -->\n",
       "<g id=\"edge1\" class=\"edge\">\n",
       "<title>4664415456*&#45;&gt;4664415456</title>\n",
       "<path fill=\"none\" stroke=\"black\" d=\"M284.11,-73.5C291.63,-73.5 300.32,-73.5 309.58,-73.5\"/>\n",
       "<polygon fill=\"black\" stroke=\"black\" points=\"309.81,-77 319.81,-73.5 309.81,-70 309.81,-77\"/>\n",
       "</g>\n",
       "<!-- 4664419056 -->\n",
       "<g id=\"node5\" class=\"node\">\n",
       "<title>4664419056</title>\n",
       "<polygon fill=\"none\" stroke=\"black\" points=\"320.5,-0.5 320.5,-36.5 509.5,-36.5 509.5,-0.5 320.5,-0.5\"/>\n",
       "<text text-anchor=\"middle\" x=\"332\" y=\"-14.8\" font-family=\"Times,serif\" font-size=\"14.00\">e</text>\n",
       "<polyline fill=\"none\" stroke=\"black\" points=\"343.5,-0.5 343.5,-36.5 \"/>\n",
       "<text text-anchor=\"middle\" x=\"383.5\" y=\"-14.8\" font-family=\"Times,serif\" font-size=\"14.00\">data 1.0000</text>\n",
       "<polyline fill=\"none\" stroke=\"black\" points=\"423.5,-0.5 423.5,-36.5 \"/>\n",
       "<text text-anchor=\"middle\" x=\"466.5\" y=\"-14.8\" font-family=\"Times,serif\" font-size=\"14.00\">grad &#45;6.0000</text>\n",
       "</g>\n",
       "<!-- 4664419056&#45;&gt;4664418672* -->\n",
       "<g id=\"edge8\" class=\"edge\">\n",
       "<title>4664419056&#45;&gt;4664418672*</title>\n",
       "<path fill=\"none\" stroke=\"black\" d=\"M509.9,-34.75C519.33,-36.38 528.45,-37.96 536.65,-39.38\"/>\n",
       "<polygon fill=\"black\" stroke=\"black\" points=\"536.06,-42.83 546.51,-41.09 537.26,-35.93 536.06,-42.83\"/>\n",
       "</g>\n",
       "<!-- 4664419056+&#45;&gt;4664419056 -->\n",
       "<g id=\"edge2\" class=\"edge\">\n",
       "<title>4664419056+&#45;&gt;4664419056</title>\n",
       "<path fill=\"none\" stroke=\"black\" d=\"M284.11,-18.5C291.84,-18.5 300.8,-18.5 310.35,-18.5\"/>\n",
       "<polygon fill=\"black\" stroke=\"black\" points=\"310.48,-22 320.48,-18.5 310.48,-15 310.48,-22\"/>\n",
       "</g>\n",
       "<!-- 4664418672 -->\n",
       "<g id=\"node7\" class=\"node\">\n",
       "<title>4664418672</title>\n",
       "<polygon fill=\"none\" stroke=\"black\" points=\"636,-27.5 636,-63.5 824,-63.5 824,-27.5 636,-27.5\"/>\n",
       "<text text-anchor=\"middle\" x=\"646.5\" y=\"-41.8\" font-family=\"Times,serif\" font-size=\"14.00\">f</text>\n",
       "<polyline fill=\"none\" stroke=\"black\" points=\"657,-27.5 657,-63.5 \"/>\n",
       "<text text-anchor=\"middle\" x=\"699.5\" y=\"-41.8\" font-family=\"Times,serif\" font-size=\"14.00\">data &#45;6.0000</text>\n",
       "<polyline fill=\"none\" stroke=\"black\" points=\"742,-27.5 742,-63.5 \"/>\n",
       "<text text-anchor=\"middle\" x=\"783\" y=\"-41.8\" font-family=\"Times,serif\" font-size=\"14.00\">grad 1.0000</text>\n",
       "</g>\n",
       "<!-- 4664418672*&#45;&gt;4664418672 -->\n",
       "<g id=\"edge3\" class=\"edge\">\n",
       "<title>4664418672*&#45;&gt;4664418672</title>\n",
       "<path fill=\"none\" stroke=\"black\" d=\"M600.29,-45.5C607.78,-45.5 616.42,-45.5 625.6,-45.5\"/>\n",
       "<polygon fill=\"black\" stroke=\"black\" points=\"625.76,-49 635.76,-45.5 625.76,-42 625.76,-49\"/>\n",
       "</g>\n",
       "</g>\n",
       "</svg>\n"
      ],
      "text/plain": [
       "<graphviz.graphs.Digraph at 0x116056950>"
      ]
     },
     "execution_count": 38,
     "metadata": {},
     "output_type": "execute_result"
    }
   ],
   "source": [
    "#complex bug\n",
    "\n",
    "a = Value(-2.0, label = 'a')\n",
    "b = Value(3.0, label = 'b')\n",
    "d = a * b; d.label = 'd'\n",
    "e = a + b; e.label = 'e'\n",
    "f = d * e; f.label = 'f'\n",
    "\n",
    "f.backward()\n",
    "draw_dot(f)\n",
    "#Gradients are wrong. this occurs because the variable is used more than once, overriding of gradients takes place. to fix it, \n",
    "#we accumulate the gradients instead of just statically putting a value. the idea of summing comes from the chain rule wiki page"
   ]
  },
  {
   "cell_type": "code",
   "execution_count": 39,
   "id": "29362a00-8c87-49c9-9d66-aa4aec2e1e5d",
   "metadata": {},
   "outputs": [],
   "source": [
    "#everything accept x1w1 example and Value was deleted. except these, everything is redundant"
   ]
  },
  {
   "cell_type": "code",
   "execution_count": 40,
   "id": "6eca7955-f37d-48f8-b3a0-2b19b16e76c0",
   "metadata": {},
   "outputs": [
    {
     "name": "stdout",
     "output_type": "stream",
     "text": [
      "0.7071066904050358\n",
      "---\n",
      "x2 0.5000001283844369\n",
      "w2 0.0\n",
      "x1 -1.5000003851533106\n",
      "x1 1.0000002567688737\n"
     ]
    }
   ],
   "source": [
    "#doing the same thing above bug in Pytorch\n",
    "import torch\n",
    "\n",
    "x1 = torch.Tensor([2.0]).double() ;x1.requires_grad = True\n",
    "x2 = torch.Tensor([0.0]).double() ;x2.requires_grad = True\n",
    "w1 = torch.Tensor([-3.0]).double() ;w1.requires_grad = True\n",
    "w2 = torch.Tensor([1.0]).double() ;w2.requires_grad = True\n",
    "b = torch.Tensor([6.881373580]).double() ;b.requires_grad = True\n",
    "n = x1*w1 + x2*w2 + b\n",
    "o = torch.tanh(n)\n",
    "\n",
    "print(o.data.item())\n",
    "o.backward()\n",
    "\n",
    "print(\"---\")\n",
    "\n",
    "print('x2',x2.grad.item())\n",
    "print('w2',w2.grad.item())\n",
    "print('x1',x1.grad.item())\n",
    "print('x1',w1.grad.item())"
   ]
  },
  {
   "cell_type": "markdown",
   "id": "0437742c-1097-4254-9f45-d39fe8707a19",
   "metadata": {},
   "source": [
    "pytorch is doing the same shit as we did. we implemented code ground up. it uses tensors to achieve this. here, the tensors basically hold scalar values. they are typecasted to double as Python holds values usually in float32 ,we need better convenience so we typecast. Explicitly also stating that they need gradients because they are leaf nodes.\n"
   ]
  },
  {
   "cell_type": "code",
   "execution_count": 41,
   "id": "23b0861d-add4-4fb8-81f9-22d79394da4a",
   "metadata": {},
   "outputs": [
    {
     "data": {
      "text/plain": [
       "tensor([0.7071], dtype=torch.float64, grad_fn=<TanhBackward0>)"
      ]
     },
     "execution_count": 41,
     "metadata": {},
     "output_type": "execute_result"
    }
   ],
   "source": [
    "o"
   ]
  },
  {
   "cell_type": "code",
   "execution_count": 42,
   "id": "9bace635-cd5f-4fe2-9160-7573da92d980",
   "metadata": {},
   "outputs": [
    {
     "data": {
      "text/plain": [
       "0.7071066904050358"
      ]
     },
     "execution_count": 42,
     "metadata": {},
     "output_type": "execute_result"
    }
   ],
   "source": [
    "o.item()"
   ]
  },
  {
   "cell_type": "code",
   "execution_count": 43,
   "id": "8ed62c0c-a6d6-46df-9fd1-81dacda5aa5c",
   "metadata": {},
   "outputs": [
    {
     "data": {
      "text/plain": [
       "tensor([0.5000], dtype=torch.float64)"
      ]
     },
     "execution_count": 43,
     "metadata": {},
     "output_type": "execute_result"
    }
   ],
   "source": [
    "x2.grad"
   ]
  },
  {
   "cell_type": "code",
   "execution_count": 44,
   "id": "98e989fb-a326-4969-a8ba-f20b61eaa281",
   "metadata": {},
   "outputs": [],
   "source": [
    "#we did pytorch on autograd,now on NN"
   ]
  },
  {
   "cell_type": "code",
   "execution_count": 59,
   "id": "6e8b7286-6106-4e47-b889-af02d83a27dc",
   "metadata": {},
   "outputs": [],
   "source": [
    "import random\n",
    "class Neuron:\n",
    "    \n",
    "    def __init__(self, nin): #number of inputs\n",
    "        self.w = [Value(random.uniform(-1,1)) for _ in range(nin)]\n",
    "        self.b = Value(random.uniform(-1,1))\n",
    "\n",
    "    def __call__(self,x): #call is called when object direct is called with x eg. n(x)\n",
    "        #w * x + b\n",
    "        act = sum((wi * xi for wi, xi in zip(self.w, x)),self.b)\n",
    "        out = act.tanh()\n",
    "        return out\n",
    "\n",
    "    def parameters(self):\n",
    "        return self.w + [self.b]\n",
    "\n",
    "class Layer:\n",
    "\n",
    "    def __init__(self, nin, nout): #number of outputs(neurons in each layer)\n",
    "        self.neurons = [Neuron(nin) for _ in range(nout)]\n",
    "\n",
    "    def __call__(self, x):\n",
    "        outs = [n(x) for n in self.neurons]\n",
    "        return outs[0] if len(outs) == 1 else outs \n",
    "    def parameters(self):\n",
    "        #return [p for neuron in self.neurons for p in neurons.parameters]\n",
    "        params = []\n",
    "        for neurons in self.neurons:\n",
    "            ps = neurons.parameters()\n",
    "            params.extend(ps)\n",
    "        return params\n",
    "\n",
    "class MLP:\n",
    "\n",
    "    def __init__(self, nin, nouts):#list of nouts, defines the sizes of all layers in mlp\n",
    "        sz = [nin] + nouts\n",
    "        self.layers = [Layer(sz[i], sz[i+1]) for i in range(len(nouts))] #creating layers\n",
    "\n",
    "    def __call__(self, x):\n",
    "        for layer in self.layers:\n",
    "            x = layer(x) #sequential calling for output\n",
    "        return x\n",
    "\n",
    "    def parameters(self):\n",
    "        return [p for layer in self.layers for p in layer.parameters()]\n",
    "        \n",
    "    #x = [2.0 3.0] n = Layer(2,3) n(x):::? for creating a layer with 2 inputs(x),\n",
    "    #3 neurons in each layer\n",
    "    \n",
    "        "
   ]
  },
  {
   "cell_type": "code",
   "execution_count": 60,
   "id": "86500f44-b6d1-457d-8984-8e18882a9a16",
   "metadata": {
    "scrolled": true
   },
   "outputs": [
    {
     "data": {
      "text/plain": [
       "Value(data=-0.30881480383027254)"
      ]
     },
     "execution_count": 60,
     "metadata": {},
     "output_type": "execute_result"
    }
   ],
   "source": [
    "x = [2.0, 3.0, -1.0]\n",
    "n = MLP(3, [4,4,1]) #3 inputs, two layers of 4 nodes, one output node\n",
    "n(x)"
   ]
  },
  {
   "cell_type": "code",
   "execution_count": 63,
   "id": "a79a1f2c-12e5-4344-85e3-be0907f0e499",
   "metadata": {},
   "outputs": [
    {
     "data": {
      "text/plain": [
       "[Value(data=0.7562630915557531),\n",
       " Value(data=0.21294491401616167),\n",
       " Value(data=-0.47421732534315186),\n",
       " Value(data=0.9827981844445486),\n",
       " Value(data=-0.11058620565550514),\n",
       " Value(data=-0.651794932415021),\n",
       " Value(data=0.27761693393728915),\n",
       " Value(data=0.15133018319554448),\n",
       " Value(data=0.11520101633243152),\n",
       " Value(data=0.9808852558836136),\n",
       " Value(data=-0.4194568891884842),\n",
       " Value(data=-0.23320627880044076),\n",
       " Value(data=-0.8832500953178841),\n",
       " Value(data=0.02195061548764876),\n",
       " Value(data=-0.9426445379149166),\n",
       " Value(data=-0.5468939028473725),\n",
       " Value(data=-0.7222302932735887),\n",
       " Value(data=-0.12402404690480218),\n",
       " Value(data=0.4813830753113155),\n",
       " Value(data=0.7799099992363208),\n",
       " Value(data=0.8151628894048057),\n",
       " Value(data=0.027792359524041688),\n",
       " Value(data=-0.4016757314431856),\n",
       " Value(data=0.0955675292066267),\n",
       " Value(data=-0.8119708243155273),\n",
       " Value(data=-0.535858603666187),\n",
       " Value(data=0.856969488323196),\n",
       " Value(data=0.15413259857552508),\n",
       " Value(data=-0.08638410909708782),\n",
       " Value(data=-0.9379033803905643),\n",
       " Value(data=-0.9280140882514551),\n",
       " Value(data=0.6386313911471222),\n",
       " Value(data=0.9546365079035459),\n",
       " Value(data=0.3288422399517468),\n",
       " Value(data=0.031011027560173154),\n",
       " Value(data=-0.45165029185341976),\n",
       " Value(data=0.93804889200171),\n",
       " Value(data=0.8738124811273598),\n",
       " Value(data=0.08300557194487812),\n",
       " Value(data=0.2429092025235302),\n",
       " Value(data=-0.7945654894243441)]"
      ]
     },
     "execution_count": 63,
     "metadata": {},
     "output_type": "execute_result"
    }
   ],
   "source": [
    "n.parameters()"
   ]
  },
  {
   "cell_type": "code",
   "execution_count": 109,
   "id": "232553ef-733e-4cb8-8728-82c32014c703",
   "metadata": {},
   "outputs": [],
   "source": [
    "#basic binary classifier net, ys is targets. when given xs[0] (2,3,-1] the\n",
    "#output should be ys[0] 1.0 and so on\n",
    "\n",
    "\n",
    "xs = [\n",
    "    [2.0, 3.0, -1.0],\n",
    "    [3.0, -1.0, 0.5],\n",
    "    [0.5, 1.0, 1.0],\n",
    "    [1.0, 1.0, -1.0],\n",
    "]\n",
    "\n",
    "ys = [1.0, -1.0, -1.0, 1.0]\n",
    "\n"
   ]
  },
  {
   "cell_type": "code",
   "execution_count": 110,
   "id": "2770261c-6f19-4c06-9f87-cf8ba2cea102",
   "metadata": {},
   "outputs": [
    {
     "ename": "OverflowError",
     "evalue": "math range error",
     "output_type": "error",
     "traceback": [
      "\u001b[0;31m---------------------------------------------------------------------------\u001b[0m",
      "\u001b[0;31mOverflowError\u001b[0m                             Traceback (most recent call last)",
      "Cell \u001b[0;32mIn[110], line 5\u001b[0m\n\u001b[1;32m      1\u001b[0m \u001b[38;5;66;03m#checks how well NN is performing,rmse loss (ygt = ground truth),loss is to be minimised\u001b[39;00m\n\u001b[1;32m      2\u001b[0m \u001b[38;5;66;03m#final automatic function\u001b[39;00m\n\u001b[1;32m      3\u001b[0m \u001b[38;5;28;01mfor\u001b[39;00m k \u001b[38;5;129;01min\u001b[39;00m \u001b[38;5;28mrange\u001b[39m(\u001b[38;5;241m20\u001b[39m):\n\u001b[1;32m      4\u001b[0m     \u001b[38;5;66;03m#forward pass\u001b[39;00m\n\u001b[0;32m----> 5\u001b[0m     ypred \u001b[38;5;241m=\u001b[39m [n(x) \u001b[38;5;28;01mfor\u001b[39;00m x \u001b[38;5;129;01min\u001b[39;00m xs]\n\u001b[1;32m      6\u001b[0m     loss \u001b[38;5;241m=\u001b[39m \u001b[38;5;28msum\u001b[39m((yout \u001b[38;5;241m-\u001b[39m ygt)\u001b[38;5;241m*\u001b[39m\u001b[38;5;241m*\u001b[39m\u001b[38;5;241m2\u001b[39m \u001b[38;5;28;01mfor\u001b[39;00m ygt, yout \u001b[38;5;129;01min\u001b[39;00m \u001b[38;5;28mzip\u001b[39m(ys, ypred))\n\u001b[1;32m      7\u001b[0m     \u001b[38;5;66;03m#backward pass\u001b[39;00m\n",
      "Cell \u001b[0;32mIn[110], line 5\u001b[0m, in \u001b[0;36m<listcomp>\u001b[0;34m(.0)\u001b[0m\n\u001b[1;32m      1\u001b[0m \u001b[38;5;66;03m#checks how well NN is performing,rmse loss (ygt = ground truth),loss is to be minimised\u001b[39;00m\n\u001b[1;32m      2\u001b[0m \u001b[38;5;66;03m#final automatic function\u001b[39;00m\n\u001b[1;32m      3\u001b[0m \u001b[38;5;28;01mfor\u001b[39;00m k \u001b[38;5;129;01min\u001b[39;00m \u001b[38;5;28mrange\u001b[39m(\u001b[38;5;241m20\u001b[39m):\n\u001b[1;32m      4\u001b[0m     \u001b[38;5;66;03m#forward pass\u001b[39;00m\n\u001b[0;32m----> 5\u001b[0m     ypred \u001b[38;5;241m=\u001b[39m [\u001b[43mn\u001b[49m\u001b[43m(\u001b[49m\u001b[43mx\u001b[49m\u001b[43m)\u001b[49m \u001b[38;5;28;01mfor\u001b[39;00m x \u001b[38;5;129;01min\u001b[39;00m xs]\n\u001b[1;32m      6\u001b[0m     loss \u001b[38;5;241m=\u001b[39m \u001b[38;5;28msum\u001b[39m((yout \u001b[38;5;241m-\u001b[39m ygt)\u001b[38;5;241m*\u001b[39m\u001b[38;5;241m*\u001b[39m\u001b[38;5;241m2\u001b[39m \u001b[38;5;28;01mfor\u001b[39;00m ygt, yout \u001b[38;5;129;01min\u001b[39;00m \u001b[38;5;28mzip\u001b[39m(ys, ypred))\n\u001b[1;32m      7\u001b[0m     \u001b[38;5;66;03m#backward pass\u001b[39;00m\n",
      "Cell \u001b[0;32mIn[59], line 41\u001b[0m, in \u001b[0;36mMLP.__call__\u001b[0;34m(self, x)\u001b[0m\n\u001b[1;32m     39\u001b[0m \u001b[38;5;28;01mdef\u001b[39;00m \u001b[38;5;21m__call__\u001b[39m(\u001b[38;5;28mself\u001b[39m, x):\n\u001b[1;32m     40\u001b[0m     \u001b[38;5;28;01mfor\u001b[39;00m layer \u001b[38;5;129;01min\u001b[39;00m \u001b[38;5;28mself\u001b[39m\u001b[38;5;241m.\u001b[39mlayers:\n\u001b[0;32m---> 41\u001b[0m         x \u001b[38;5;241m=\u001b[39m \u001b[43mlayer\u001b[49m\u001b[43m(\u001b[49m\u001b[43mx\u001b[49m\u001b[43m)\u001b[49m \u001b[38;5;66;03m#sequential calling for output\u001b[39;00m\n\u001b[1;32m     42\u001b[0m     \u001b[38;5;28;01mreturn\u001b[39;00m x\n",
      "Cell \u001b[0;32mIn[59], line 23\u001b[0m, in \u001b[0;36mLayer.__call__\u001b[0;34m(self, x)\u001b[0m\n\u001b[1;32m     22\u001b[0m \u001b[38;5;28;01mdef\u001b[39;00m \u001b[38;5;21m__call__\u001b[39m(\u001b[38;5;28mself\u001b[39m, x):\n\u001b[0;32m---> 23\u001b[0m     outs \u001b[38;5;241m=\u001b[39m [n(x) \u001b[38;5;28;01mfor\u001b[39;00m n \u001b[38;5;129;01min\u001b[39;00m \u001b[38;5;28mself\u001b[39m\u001b[38;5;241m.\u001b[39mneurons]\n\u001b[1;32m     24\u001b[0m     \u001b[38;5;28;01mreturn\u001b[39;00m outs[\u001b[38;5;241m0\u001b[39m] \u001b[38;5;28;01mif\u001b[39;00m \u001b[38;5;28mlen\u001b[39m(outs) \u001b[38;5;241m==\u001b[39m \u001b[38;5;241m1\u001b[39m \u001b[38;5;28;01melse\u001b[39;00m outs\n",
      "Cell \u001b[0;32mIn[59], line 23\u001b[0m, in \u001b[0;36m<listcomp>\u001b[0;34m(.0)\u001b[0m\n\u001b[1;32m     22\u001b[0m \u001b[38;5;28;01mdef\u001b[39;00m \u001b[38;5;21m__call__\u001b[39m(\u001b[38;5;28mself\u001b[39m, x):\n\u001b[0;32m---> 23\u001b[0m     outs \u001b[38;5;241m=\u001b[39m [\u001b[43mn\u001b[49m\u001b[43m(\u001b[49m\u001b[43mx\u001b[49m\u001b[43m)\u001b[49m \u001b[38;5;28;01mfor\u001b[39;00m n \u001b[38;5;129;01min\u001b[39;00m \u001b[38;5;28mself\u001b[39m\u001b[38;5;241m.\u001b[39mneurons]\n\u001b[1;32m     24\u001b[0m     \u001b[38;5;28;01mreturn\u001b[39;00m outs[\u001b[38;5;241m0\u001b[39m] \u001b[38;5;28;01mif\u001b[39;00m \u001b[38;5;28mlen\u001b[39m(outs) \u001b[38;5;241m==\u001b[39m \u001b[38;5;241m1\u001b[39m \u001b[38;5;28;01melse\u001b[39;00m outs\n",
      "Cell \u001b[0;32mIn[59], line 11\u001b[0m, in \u001b[0;36mNeuron.__call__\u001b[0;34m(self, x)\u001b[0m\n\u001b[1;32m      8\u001b[0m \u001b[38;5;28;01mdef\u001b[39;00m \u001b[38;5;21m__call__\u001b[39m(\u001b[38;5;28mself\u001b[39m,x): \u001b[38;5;66;03m#call is called when object direct is called with x eg. n(x)\u001b[39;00m\n\u001b[1;32m      9\u001b[0m     \u001b[38;5;66;03m#w * x + b\u001b[39;00m\n\u001b[1;32m     10\u001b[0m     act \u001b[38;5;241m=\u001b[39m \u001b[38;5;28msum\u001b[39m((wi \u001b[38;5;241m*\u001b[39m xi \u001b[38;5;28;01mfor\u001b[39;00m wi, xi \u001b[38;5;129;01min\u001b[39;00m \u001b[38;5;28mzip\u001b[39m(\u001b[38;5;28mself\u001b[39m\u001b[38;5;241m.\u001b[39mw, x)),\u001b[38;5;28mself\u001b[39m\u001b[38;5;241m.\u001b[39mb)\n\u001b[0;32m---> 11\u001b[0m     out \u001b[38;5;241m=\u001b[39m \u001b[43mact\u001b[49m\u001b[38;5;241;43m.\u001b[39;49m\u001b[43mtanh\u001b[49m\u001b[43m(\u001b[49m\u001b[43m)\u001b[49m\n\u001b[1;32m     12\u001b[0m     \u001b[38;5;28;01mreturn\u001b[39;00m out\n",
      "Cell \u001b[0;32mIn[10], line 74\u001b[0m, in \u001b[0;36mValue.tanh\u001b[0;34m(self)\u001b[0m\n\u001b[1;32m     72\u001b[0m \u001b[38;5;28;01mdef\u001b[39;00m \u001b[38;5;21mtanh\u001b[39m(\u001b[38;5;28mself\u001b[39m):\n\u001b[1;32m     73\u001b[0m     x \u001b[38;5;241m=\u001b[39m \u001b[38;5;28mself\u001b[39m\u001b[38;5;241m.\u001b[39mdata\n\u001b[0;32m---> 74\u001b[0m     t \u001b[38;5;241m=\u001b[39m (\u001b[43mmath\u001b[49m\u001b[38;5;241;43m.\u001b[39;49m\u001b[43mexp\u001b[49m\u001b[43m(\u001b[49m\u001b[38;5;241;43m2\u001b[39;49m\u001b[38;5;241;43m*\u001b[39;49m\u001b[43mx\u001b[49m\u001b[43m)\u001b[49m \u001b[38;5;241m-\u001b[39m \u001b[38;5;241m1\u001b[39m)\u001b[38;5;241m/\u001b[39m(math\u001b[38;5;241m.\u001b[39mexp(\u001b[38;5;241m2\u001b[39m\u001b[38;5;241m*\u001b[39mx) \u001b[38;5;241m+\u001b[39m \u001b[38;5;241m1\u001b[39m)\n\u001b[1;32m     75\u001b[0m     out \u001b[38;5;241m=\u001b[39m Value(t, (\u001b[38;5;28mself\u001b[39m,), \u001b[38;5;124m'\u001b[39m\u001b[38;5;124mtanh\u001b[39m\u001b[38;5;124m'\u001b[39m)\n\u001b[1;32m     77\u001b[0m     \u001b[38;5;28;01mdef\u001b[39;00m \u001b[38;5;21m_backward\u001b[39m():\n",
      "\u001b[0;31mOverflowError\u001b[0m: math range error"
     ]
    }
   ],
   "source": [
    "#checks how well NN is performing,rmse loss (ygt = ground truth),loss is to be minimised\n",
    "#final automatic function\n",
    "for k in range(20):\n",
    "    #forward pass\n",
    "    ypred = [n(x) for x in xs]\n",
    "    loss = sum((yout - ygt)**2 for ygt, yout in zip(ys, ypred))\n",
    "    #backward pass\n",
    "    for p in n.parameters():\n",
    "        p.grad = 0.0 #(zero grad in pytorch)\n",
    "    loss.backward()\n",
    "    #update\n",
    "    for p in n.parameters(): \n",
    "        p.data += -0.05 * p.grad \n",
    "    print(k, loss.data)\n",
    "    #errors occur due to overlapping functions, will have to remove"
   ]
  },
  {
   "cell_type": "code",
   "execution_count": 105,
   "id": "e07c745c-920d-4595-87c8-5036195b19a5",
   "metadata": {},
   "outputs": [
    {
     "data": {
      "text/plain": [
       "Value(data=6.419066689302909)"
      ]
     },
     "execution_count": 105,
     "metadata": {},
     "output_type": "execute_result"
    }
   ],
   "source": [
    "ypred = [n(x) for x in xs]\n",
    "loss = sum((yout - ygt)**2 for ygt, yout in zip(ys, ypred))\n",
    "loss"
   ]
  },
  {
   "cell_type": "code",
   "execution_count": 91,
   "id": "a5ad2b96-ef40-4d2d-bc5b-c3656a973a5c",
   "metadata": {},
   "outputs": [],
   "source": [
    "loss.backward()"
   ]
  },
  {
   "cell_type": "code",
   "execution_count": 72,
   "id": "04313a29-a8ac-4961-8471-fef64d5698cb",
   "metadata": {},
   "outputs": [
    {
     "data": {
      "text/plain": [
       "0.00044189975178435606"
      ]
     },
     "execution_count": 72,
     "metadata": {},
     "output_type": "execute_result"
    }
   ],
   "source": [
    "n.layers[0].neurons[0].w[0].grad"
   ]
  },
  {
   "cell_type": "code",
   "execution_count": 73,
   "id": "a812a348-8479-478b-baf5-77924ac1ac59",
   "metadata": {},
   "outputs": [
    {
     "data": {
      "text/plain": [
       "0.7562630915557531"
      ]
     },
     "execution_count": 73,
     "metadata": {},
     "output_type": "execute_result"
    }
   ],
   "source": [
    "n.layers[0].neurons[0].w[0].data"
   ]
  },
  {
   "cell_type": "code",
   "execution_count": 92,
   "id": "87507a36-238f-47ca-b717-586cde7185b3",
   "metadata": {},
   "outputs": [],
   "source": [
    "#doing gradient descent manually\n",
    "\n",
    "for p in n.parameters(): #0.01 is learning rate\n",
    "    p.data += -0.01 * p.grad #small step size towards lesser loss. vector is pointing at increasing loss, -ve sign points it to minimize the loss\n"
   ]
  },
  {
   "cell_type": "code",
   "execution_count": 77,
   "id": "8d0232e4-7975-4c2d-907f-936eac94f40b",
   "metadata": {},
   "outputs": [
    {
     "data": {
      "text/plain": [
       "0.00044189975178435606"
      ]
     },
     "execution_count": 77,
     "metadata": {},
     "output_type": "execute_result"
    }
   ],
   "source": [
    "n.layers[0].neurons[0].w[0].grad"
   ]
  },
  {
   "cell_type": "code",
   "execution_count": 94,
   "id": "a46a4523-30b1-40a0-b09f-76ca6fc3e12d",
   "metadata": {},
   "outputs": [
    {
     "data": {
      "text/plain": [
       "[Value(data=0.8337972935164136),\n",
       " Value(data=-0.856770816433582),\n",
       " Value(data=0.011664799036840388),\n",
       " Value(data=0.7844368453004499)]"
      ]
     },
     "execution_count": 94,
     "metadata": {},
     "output_type": "execute_result"
    }
   ],
   "source": [
    "ypred"
   ]
  },
  {
   "cell_type": "code",
   "execution_count": null,
   "id": "9b137e03-e8ab-4715-b284-35165f165237",
   "metadata": {},
   "outputs": [],
   "source": [
    "#loss.backward; gradient descent; check loss, repeat. forward pass,backward pass,update. (gd steps)"
   ]
  },
  {
   "cell_type": "code",
   "execution_count": 95,
   "id": "e25b3b37-5407-410c-92ee-7a40719a8964",
   "metadata": {},
   "outputs": [
    {
     "data": {
      "text/plain": [
       "[Value(data=0.7640785363583494),\n",
       " Value(data=0.23086750727600938),\n",
       " Value(data=-0.45125377236515324),\n",
       " Value(data=1.00122420687027),\n",
       " Value(data=-0.09498855112678453),\n",
       " Value(data=-0.6215687883142949),\n",
       " Value(data=0.37655514734529105),\n",
       " Value(data=0.19289517933082384),\n",
       " Value(data=0.07516881952228452),\n",
       " Value(data=0.8839756822226482),\n",
       " Value(data=-0.5940572865933251),\n",
       " Value(data=-0.3368087449448139),\n",
       " Value(data=-0.8893585004131135),\n",
       " Value(data=0.026052973850940367),\n",
       " Value(data=-0.9274051066378437),\n",
       " Value(data=-0.564571045770508),\n",
       " Value(data=-0.5048615516094608),\n",
       " Value(data=-0.4000945769466948),\n",
       " Value(data=0.7769321739826403),\n",
       " Value(data=0.7210703467711947),\n",
       " Value(data=0.9987331825966305),\n",
       " Value(data=0.21025209826248173),\n",
       " Value(data=-0.6198266860010664),\n",
       " Value(data=0.3379301980091713),\n",
       " Value(data=-0.8561882780837177),\n",
       " Value(data=-0.3745159293037077),\n",
       " Value(data=0.8810158695725742),\n",
       " Value(data=0.12665259582873103),\n",
       " Value(data=-0.056303795797175246),\n",
       " Value(data=-0.9451410262531224),\n",
       " Value(data=-0.9066791888639975),\n",
       " Value(data=0.6985714725449383),\n",
       " Value(data=0.8854984810639445),\n",
       " Value(data=0.40409477860589194),\n",
       " Value(data=0.010866283689665912),\n",
       " Value(data=-0.3981306543236462),\n",
       " Value(data=1.0728479169485672),\n",
       " Value(data=0.9745667554213614),\n",
       " Value(data=0.09944750745635296),\n",
       " Value(data=0.11031078331914553),\n",
       " Value(data=-0.5521126217218417)]"
      ]
     },
     "execution_count": 95,
     "metadata": {},
     "output_type": "execute_result"
    }
   ],
   "source": [
    "n.parameters()"
   ]
  },
  {
   "cell_type": "code",
   "execution_count": null,
   "id": "00e7c39b-d3ec-4677-b3ab-1def959c65f9",
   "metadata": {},
   "outputs": [],
   "source": [
    "#redo last 15mim."
   ]
  }
 ],
 "metadata": {
  "kernelspec": {
   "display_name": "Python 3 (ipykernel)",
   "language": "python",
   "name": "python3"
  },
  "language_info": {
   "codemirror_mode": {
    "name": "ipython",
    "version": 3
   },
   "file_extension": ".py",
   "mimetype": "text/x-python",
   "name": "python",
   "nbconvert_exporter": "python",
   "pygments_lexer": "ipython3",
   "version": "3.10.14"
  }
 },
 "nbformat": 4,
 "nbformat_minor": 5
}
